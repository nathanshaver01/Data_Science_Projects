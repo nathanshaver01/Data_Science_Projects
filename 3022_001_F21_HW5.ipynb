{
 "cells": [
  {
   "cell_type": "markdown",
   "metadata": {},
   "source": [
    "<a id='top'></a>\n",
    "\n",
    "# CSCI3022 F21\n",
    "# Homework 5: Means, Variances, the CLT\n",
    "***\n",
    "\n",
    "**Name**: Nathan Shaver\n",
    "\n",
    "***\n",
    "\n",
    "This assignment is due on Canvas (as .ipynb) and Gradescope (as a .pdf) by **MIDNIGHT on Mon 25 Oct**. Your solutions to theoretical questions should be done in Markdown directly below the associated question.  Your solutions to computational questions should include any specified Python code and results as well as written commentary on your conclusions.  Remember that you are encouraged to discuss the problems with your classmates, but **you must write all code and solutions on your own**.\n",
    "\n",
    "**NOTES**: \n",
    "\n",
    "- Any relevant data sets should be available on Canvas. To make life easier on the graders if they need to run your code, do not change the relative path names here. Instead, move the files around on your computer.\n",
    "- If you're not familiar with typesetting math directly into Markdown then by all means, do your work on paper first and then typeset it later.  Here is a [reference guide](https://math.meta.stackexchange.com/questions/5020/mathjax-basic-tutorial-and-quick-reference) linked on Canvas on writing math in Markdown. **All** of your written commentary, justifications and mathematical work should be in Markdown.  I also recommend the [wikibook](https://en.wikibooks.org/wiki/LaTeX) for LaTex.\n",
    "- Because you can technically evaluate notebook cells is a non-linear order, it's a good idea to do **Kernel $\\rightarrow$ Restart & Run All** as a check before submitting your solutions.  That way if we need to run your code you will know that it will work as expected. \n",
    "- It is **bad form** to make your reader interpret numerical output from your code.  If a question asks you to compute some value from the data you should show your code output **AND** write a summary of the results in Markdown directly below your code. \n",
    "- 45 points of this assignment are in problems.  The remaining 5 are for neatness, style, and overall exposition of both code and text.\n",
    "- This probably goes without saying, but... For any question that asks you to calculate something, you **must show all work and justify your answers to receive credit**. Sparse or nonexistent work will receive sparse or nonexistent credit. \n",
    "\n",
    "---\n",
    "**Shortcuts:**  [Problem 1](#p1) | [Problem 2](#p2) | [Problem 3](#p3) |\n",
    "---"
   ]
  },
  {
   "cell_type": "code",
   "execution_count": 1,
   "metadata": {},
   "outputs": [],
   "source": [
    "import numpy as np\n",
    "import pandas as pd\n",
    "import matplotlib.pylab as plt\n",
    "import scipy.stats as stats\n",
    "%matplotlib inline\n",
    "import random\n",
    "import math"
   ]
  },
  {
   "cell_type": "markdown",
   "metadata": {},
   "source": [
    "***\n",
    "<a/ id='p1'></a>\n",
    "[Back to top](#top)\n",
    "\n",
    "## (15 pts) Problem 1: Simulation and Theory (Games)\n",
    "***\n",
    "\n",
    "The Riddler is a column on the website https://fivethirtyeight.com that posts logic, math, and probability puzzles each week.  Some of puzzles can be attacked by simulation and discrete probability: things that we have the tools to solve!\n",
    "\n",
    "(https://fivethirtyeight.com/features/how-low-can-you-roll/)\n",
    "\n",
    "You are given a fair, unweighted 10-sided die with sides labeled 0 to 9 and a sheet of paper to record your score. (If the very notion of a fair 10-sided die bothers you, and you need to know what sort of three-dimensional solid it is, then forget it — you have a random number generator that gives you an integer value from 0 to 9 with equal probability. Your loss — the die was a collector’s item.)\n",
    "\n",
    "To start the game, you roll the die. Your current “score” is the number shown, divided by 10. For example, if you were to roll a 7, then your score would be 0.7. Then, you keep rolling the die over and over again. Each time you roll, if the digit shown by the die is less than or equal to the last digit of your score, then that roll becomes the new last digit of your score. Otherwise you just go ahead and roll again. The game ends when you roll a zero.\n",
    "\n",
    "For example, suppose you roll the following: 6, 2, 5, 1, 8, 1, 0. After your first roll, your score would be 0.6, After the second, it’s 0.62. You ignore the third roll, since 5 is greater than the current last digit, 2. After the fourth roll, your score is 0.621. You ignore the fifth roll, since 8 is greater than the current last digit, 1. After the sixth roll, your score is 0.6211. And after the seventh roll, the game is over — 0.6211 is your final score.\n",
    "\n",
    "What will be your average final score in this game?\n",
    "\n",
    "**Part A**: Suppose our current value is $0.abcd$ for some 1-9 integers $a, b, c, d.$  What is the theoretical distribution of $e$, the next *term* in the final score's decimal representation?  Name the distribution and list all of its outcomes and their probabilities.  Note that \"there are no additional terms\" should have non-zero probability."
   ]
  },
  {
   "cell_type": "code",
   "execution_count": null,
   "metadata": {},
   "outputs": [],
   "source": []
  },
  {
   "cell_type": "markdown",
   "metadata": {},
   "source": [
    "**Part B**: What is the expected number of *rolls* until you're done?  What is the theoretical variance in the number of *rolls* until you're done?  What distribution is this?\n",
    "\n"
   ]
  },
  {
   "cell_type": "markdown",
   "metadata": {},
   "source": [
    "The game stops when the player rolls a 0. The probability of rolling a 0, regardless of the number of rolls, is .1. Since we are dealing with a geometric distribution, this means the expected number of rolls before we stop is equal to $\\frac{(1-p)}{p}$ or $\\frac{(1-.1)}{.1} = 9$ rolls"
   ]
  },
  {
   "cell_type": "markdown",
   "metadata": {},
   "source": [
    "**Part C**: Simulate 10000 trials of this game, recording a score for each, then compute and print the average score over all of those trials. \n",
    "\n",
    "(Note: To check your result, you can find the exact *expected* solution in the following week's column: https://fivethirtyeight.com/features/can-you-decode-the-riddler-lottery/... but we want to simulate!)\n"
   ]
  },
  {
   "cell_type": "code",
   "execution_count": 2,
   "metadata": {},
   "outputs": [
    {
     "name": "stdout",
     "output_type": "stream",
     "text": [
      "The average score in 10000 trials is 0.468257282651\n"
     ]
    }
   ],
   "source": [
    "finallist = []\n",
    "finallistnp = np.array(finallist)\n",
    "j = 0\n",
    "#while loop that runs 10000 times\n",
    "while j < 10000:\n",
    "    bool1 = True\n",
    "    list1 = []\n",
    "    listnp = np.array(list1)\n",
    "    #loop that runs until digit is 0\n",
    "    while bool1:\n",
    "        x = random.randint(0,9)\n",
    "        if(x == 0):\n",
    "            #print(listnp)\n",
    "            bool1 = False\n",
    "        else:\n",
    "            if(len(listnp) == 0):\n",
    "                listnp = np.append(listnp, x)   \n",
    "            elif(x < listnp[len(listnp) - 1]):\n",
    "                listnp = np.append(listnp, x)\n",
    "    #converts the list into digits of a number\n",
    "    i = 0\n",
    "    final = 0\n",
    "    list1 = listnp\n",
    "    while i < len(listnp):\n",
    "        dec = list1[i] /pow(10,i+1)\n",
    "        final = dec + final\n",
    "        i = i + 1\n",
    "    finallistnp = np.append(finallistnp, final)\n",
    "    j = j + 1\n",
    "print(\"The average score in 10000 trials is\", np.mean(finallistnp))"
   ]
  },
  {
   "cell_type": "markdown",
   "metadata": {},
   "source": [
    "**Part D**: Make a histogram of all your scores from part C, and include a vertical line placed at the mean score from part C."
   ]
  },
  {
   "cell_type": "code",
   "execution_count": 3,
   "metadata": {},
   "outputs": [
    {
     "data": {
      "text/plain": [
       "<matplotlib.lines.Line2D at 0x7fd60f9fd670>"
      ]
     },
     "execution_count": 3,
     "metadata": {},
     "output_type": "execute_result"
    },
    {
     "data": {
      "image/png": "[encoded data removed]",
      "text/plain": [
       "<Figure size 1224x648 with 1 Axes>"
      ]
     },
     "metadata": {
      "needs_background": "light"
     },
     "output_type": "display_data"
    }
   ],
   "source": [
    "fig, ax = plt.subplots(1,1, figsize=(17,9))\n",
    "ax.hist(finallistnp, bins = 90)\n",
    "ax.set_xlabel(\"Score of Each Game\", fontsize=16)\n",
    "ax.set_ylabel(\"Quantity of scores\", fontsize=16)\n",
    "ax.set_title(\"Quantity of scores for each game\", fontsize=24)\n",
    "plt.axvline(np.mean(finallistnp), color = 'darkblue')"
   ]
  },
  {
   "cell_type": "markdown",
   "metadata": {},
   "source": [
    "[Back to top](#top)\n",
    "<a/ id='p2'></a>\n",
    "\n",
    "## (15 pts) Problem 2: Normals and Making the Curve\n",
    "\n",
    "Due to your excellent work to date, you've been hired as a Course Assistant to CSCI3022!  The new instructor isn't really in the mood to write new problems, so they've turned to you to create the exam and ensure that it has a reasonable distribution of grades.\n",
    "\n",
    "For each of the prompts below, you should at the very least set up and justify your calculation by hand (in Markdown/Mathjax), before executing any calculations in Python. After that, feel free to use python to actually do the calculations and get decimal results. You should use absolutely use Python to retrieve critical values of a standard normal random variable (using a Z chart is so old school!).\n"
   ]
  },
  {
   "cell_type": "markdown",
   "metadata": {},
   "source": [
    "**Part A**:\n",
    "Suppose that you've created an exam with a mean of 75 points and a standard deviation of 15 points.  These scores are normally distributed  Thanks to including some extra credit, note that there's some possibility of scores above 100... which is fine, because those students are (fire emoji).\n",
    "\n",
    "\n",
    "The administration has told you that they'd like to track your \"B/C\" students, and wants data regarding any student whose exam grade fell between 78 and 84.  What is the probability that an individual students' (say, the $i$th) grade $X_i$ falls between 78 and 84?\n",
    "\n"
   ]
  },
  {
   "cell_type": "markdown",
   "metadata": {},
   "source": [
    "$\\mu = 75$, $\\sigma = 15$ \n",
    "\n",
    "We need to find the probability that $X_i$ falls between 78 and 84, so $P(78 < X_1 < 84)$ Since this is a normal distribution, $P(78-\\mu < X_1 - \\sigma < 84-\\mu) = P(\\frac{78-75}{15} < \\frac{X_1 - 75}{15} < \\frac{84-75}{15})$ = $P(.2 < Z < .6)$, where Z is the Z score\n",
    "\n",
    "Using a standard normal table, $P(Z < .6) = .7257$ and $P(Z < .2) = .5793$, therefore $P(.2 < Z < .6) = .7257 - .5793 = .1464$"
   ]
  },
  {
   "cell_type": "code",
   "execution_count": 4,
   "metadata": {},
   "outputs": [
    {
     "name": "stdout",
     "output_type": "stream",
     "text": [
      "The probability a single student's score was between 78 and 84 is 0.146\n"
     ]
    }
   ],
   "source": [
    "mu = 75\n",
    "sigma = 15# mean and standard deviation\n",
    "list1 = np.random.normal(mu, sigma, 10000)\n",
    "i = 0\n",
    "count = 0\n",
    "while i < len(list1):\n",
    "    if(78 < list1[i] < 84):\n",
    "        count = count + 1\n",
    "    i = i + 1\n",
    "print(\"The probability a single student's score was between 78 and 84 is\", count/10000)"
   ]
  },
  {
   "cell_type": "markdown",
   "metadata": {},
   "source": [
    "**Part B:** Suppose your class has 30 students.  What is the probability that the overall average for the exam $\\bar{X}$ falls between 78 and 84?\n",
    "\n"
   ]
  },
  {
   "cell_type": "markdown",
   "metadata": {},
   "source": [
    "$\\mu_{\\bar{x}} = 75$, $\\sigma_{\\bar{x}} = \\frac{\\sigma_x}{\\sqrt{n}} = \\frac{15}{\\sqrt{30}} = 2.738$ \n",
    "\n",
    "We need to find the probability that $\\bar{x}$ falls between 78 and 84, so $P(78 < \\bar{x} < 84)$ Since this is a normal distribution, $P(78-\\mu_{\\bar{x}} < \\bar{x} - \\sigma_{\\bar{x}} < 84-\\mu_{\\bar{x}}) = P(\\frac{78-75}{2.738} < \\frac{\\bar{x} - 75}{2.738} < \\frac{84-75}{2.738})$ = $P(1.1 < Z < 3.29)$, where Z is the Z score\n",
    "\n",
    "Using a standard normal table, $P(Z < 3.29) = .9995$ and $P(Z < 1.1) = .8643$, therefore $P(1.1 < Z < 3.29) = .9995 - .8643 = .1352$"
   ]
  },
  {
   "cell_type": "code",
   "execution_count": 5,
   "metadata": {},
   "outputs": [
    {
     "name": "stdout",
     "output_type": "stream",
     "text": [
      "The probability of the average of 30 student's scores being between 78 and 84 is 0.1302\n"
     ]
    }
   ],
   "source": [
    "mu = 75\n",
    "size = 30\n",
    "sigma = 15 / math.sqrt(size)# mean and standard deviation\n",
    "list1 = np.random.normal(mu, sigma, 10000)\n",
    "i = 0\n",
    "count = 0\n",
    "while i < len(list1):\n",
    "    if(78 < list1[i] < 84):\n",
    "        count = count + 1  \n",
    "    i = i + 1\n",
    "print(\"The probability of the average of 30 student's scores being between 78 and 84 is\", count/10000)"
   ]
  },
  {
   "cell_type": "markdown",
   "metadata": {},
   "source": [
    "**Part C**:\n",
    "Suppose you had control over enrollment, and could choose the number of students $n$ in your class.  What value would you choose for $n$ to **maximize** the probability that the overall average for the exam $\\bar{X}$ falls between 78 and 84?\n",
    "\n",
    "Hint: you can brute force it using a similar calculation to that in **B**!"
   ]
  },
  {
   "cell_type": "code",
   "execution_count": 6,
   "metadata": {},
   "outputs": [
    {
     "name": "stdout",
     "output_type": "stream",
     "text": [
      "To maximize the probability of the average being between 78 and 84, the number of students should be 8 with a probability of 0.2472\n"
     ]
    }
   ],
   "source": [
    "max1 = 0\n",
    "maxsize = 0\n",
    "size = 1\n",
    "while size < 50:\n",
    "    mu = 75\n",
    "    sigma = 15 / math.sqrt(size)# mean and standard deviation\n",
    "    list1 = np.random.normal(mu, sigma, 10000)\n",
    "    i = 0\n",
    "    count = 0\n",
    "    while i < len(list1):\n",
    "        if(78 < list1[i] < 84):\n",
    "            count = count + 1 \n",
    "        i = i + 1\n",
    "    if(count/10000 > max1):\n",
    "        max1 = count/10000\n",
    "        maxsize = size\n",
    "    size = size + 1\n",
    "print(\"To maximize the probability of the average being between 78 and 84, the number of students should be\", maxsize, \"with a probability of\", max1)"
   ]
  },
  {
   "cell_type": "markdown",
   "metadata": {},
   "source": [
    "**Part D:**  You've realized that no matter what you do, the standard deviation for exam scores basically never deviates from 15 points.  But you can affect the mean by writing slightly easier/tougher problems or providing better hints along the way!  For another class of 30 students, what value would you have to change the exam average $\\mu$ to be to ensure that there is a 97% chance that the *class average* score is above 78?"
   ]
  },
  {
   "cell_type": "markdown",
   "metadata": {},
   "source": [
    "In a normally distriubuted graph, 2.2% of the probability quantity lies at 2 standard deviations or below the mean. Therefore, to ensure a 97% chance of the class average being above 78, the mean should be 2 standard deviations above the expected value of 78. The standard deviation is 15, so therefore, the mean should be $78+15+15 = 108$"
   ]
  },
  {
   "cell_type": "code",
   "execution_count": 7,
   "metadata": {},
   "outputs": [
    {
     "name": "stdout",
     "output_type": "stream",
     "text": [
      "To maximize the probability of the average being above 78, the exam average should be 106 with a probability of 0.9748\n"
     ]
    }
   ],
   "source": [
    "max1 = 0\n",
    "maxsize = 0\n",
    "mu = 0\n",
    "while mu <= 110:\n",
    "    size = 30\n",
    "    sigma = 15# mean and standard deviation\n",
    "    list1 = np.random.normal(mu, sigma, 10000)\n",
    "    i = 0\n",
    "    count = 0\n",
    "    while i < len(list1):\n",
    "        if(78 < list1[i]):\n",
    "            count = count + 1 \n",
    "        i = i + 1\n",
    "    if(count/10000 > max1):\n",
    "        max1 = count/10000\n",
    "        maxsize = mu\n",
    "    mu = mu + 1\n",
    "    if(max1 > .97):\n",
    "        break\n",
    "print(\"To maximize the probability of the average being above 78, the exam average should be\", maxsize, \"with a probability of\", max1)"
   ]
  },
  {
   "cell_type": "markdown",
   "metadata": {},
   "source": [
    "[Back to top](#top)\n",
    "<a/ id='p3'></a>\n",
    "\n",
    "## (15 pts) Problem 3: Simulation of Definite Integrals\n",
    "One really cool application of random variables is using them to approximate integrals/area under a curve.  This method of approximating integrals is used frequently in computational science to approximate really difficult integrals that we never want to do by hand.  In this exercise you'll figure out how we can do this in practice and test your method on a relatively simple integral. "
   ]
  },
  {
   "cell_type": "markdown",
   "metadata": {},
   "source": [
    "**Part A.** Consider the following function.\n",
    "\n",
    "$$ f(x) = \\frac{1}{4} \\ \\sin(x) $$   \n",
    "\n",
    "Compute **by hand**, the integral of $f(x)$ for $0 \\leq x \\leq 2$. Once you have your expression worked out, you may use python to estimate the integral to the nearest 6th decimal place.  "
   ]
  },
  {
   "cell_type": "markdown",
   "metadata": {},
   "source": [
    "**Solution:**\n",
    "\n",
    "$\\int_{0}^{2} \\frac{sin(x)}{4}\\, dx$ = $\\frac{1}{4} \\int sin(x)$ = $\\frac{-cos(x)}{4} + C$ = $-\\frac{cos(2)}{4} + \\frac{cos(0)}{4} = .354037$"
   ]
  },
  {
   "cell_type": "code",
   "execution_count": 8,
   "metadata": {},
   "outputs": [
    {
     "name": "stdout",
     "output_type": "stream",
     "text": [
      "0.354037\n"
     ]
    }
   ],
   "source": [
    "answer = (-math.cos(2))/4 + (math.cos(0))/4\n",
    "print(str(round(answer, 6)))"
   ]
  },
  {
   "cell_type": "markdown",
   "metadata": {},
   "source": [
    "**Part B.** Suppose we sample a random variable $X$ from $U(0,2)$ and another random variable $Y$ from $U(0,1)$ and think of them as $x$- and $y$-coordinates of a point in the box $[0,2] \\times [0,1]$.  If we compute the ratio of points that fall under the curve $f(x)$ to the total points sampled, what does this value estimate? "
   ]
  },
  {
   "cell_type": "markdown",
   "metadata": {},
   "source": [
    "**Solution:**\n",
    "\n",
    "Since the X and Y coordinates run from $U(0,2)$ and $U(0,1)$, the area of the box $[0,2] \\times [0,1]$ is 2. As calculated in part A, the area underneath the curve $f(x)$ is $.354037$. Therefore, the probability of an x,y coordinate being randomly selected that is underneath the curve $f(x)$ is equal to $\\frac{.354037}{2} = .1770185$"
   ]
  },
  {
   "cell_type": "markdown",
   "metadata": {},
   "source": [
    "**Part C.** How could we modify the process outlined in **Part B** so that our estimator estimates the value of the desired integral?  If you need inspiration, check out the in-class notebook on Stochastic Simulation (#4), specifically, the exercise where we estimated $\\pi$!"
   ]
  },
  {
   "cell_type": "markdown",
   "metadata": {},
   "source": [
    "**Solution:**"
   ]
  },
  {
   "cell_type": "markdown",
   "metadata": {},
   "source": [
    "**Part D.** Complete the function `integrate` below to compute an approximation to the definition integral $\\int_0^{\\text{ub}} f(x)dx$.  Your function should take as arguments:\n",
    "1. `num_samples` -- the number of points to sample,\n",
    "2. `ub` -- a number between $0$ and $\\pi$, and\n",
    "3. `isPlot` -- a Boolean flag for whether or not to display a plot of the results.\n",
    "\n",
    "Your function should return an approximation of the definite integral by sampling $X$ from $U(0,\\text{ub})$ and $Y$ from $U(0,1)$. For each random draw $(X,Y)$, define the random variable $Z$ that represents whether or not the sampled $Y$ value is less than $f(X)$ for the corresponding $X$ value.\n",
    "\n",
    "Your function should perform three tasks: \n",
    "\n",
    "1. return the estimate of the value of the integral,\n",
    "2. return the sample variance of the random variable $Z$ being simulated, using the np.var function, and\n",
    "3. if `isPlot` is True, plot the curve $f(x)$ as well as the location of the points $(X,Y)$, colored according to whether they fall above or below the curve. "
   ]
  },
  {
   "cell_type": "code",
   "execution_count": 190,
   "metadata": {},
   "outputs": [
    {
     "name": "stdout",
     "output_type": "stream",
     "text": [
      "0.6354629137035446 0.8842493047348028\n"
     ]
    },
    {
     "data": {
      "image/png": "[encoded data removed]",
      "text/plain": [
       "<Figure size 432x288 with 1 Axes>"
      ]
     },
     "metadata": {
      "needs_background": "light"
     },
     "output_type": "display_data"
    }
   ],
   "source": [
    "#Part D solution here\n",
    "from math import cos, exp, pi, sin\n",
    "from scipy.integrate import quad\n",
    "\n",
    "def function(x):\n",
    "    return sin(x)/4\n",
    "def integrate(max1, max2):\n",
    "    x = random.uniform(0, max1)\n",
    "    y = random.uniform(0, max2)\n",
    "    if(function(x) > y):\n",
    "        isPlot = True\n",
    "        return(isPlot)\n",
    "    return False, x, y\n",
    "#integrate(2,1)\n",
    "x2 = integrate(2,1)[1]\n",
    "y2 = integrate(2,1)[2]\n",
    "x = np.arange(0,2*np.pi,0.01)   # start,stop,step\n",
    "y = np.sin(x) / 4\n",
    "x1 = x2\n",
    "y1 = y2\n",
    "print(x2, y2)\n",
    "\n",
    "plt.scatter(x1, y1)\n",
    "plt.plot(x,y)\n",
    "plt.show()"
   ]
  },
  {
   "cell_type": "markdown",
   "metadata": {},
   "source": [
    "**Part E.** Write your own small unit tests!\n",
    "\n",
    "First, what should your `integrate` function output if you plug in `ub=0`? Set that as `int_0_to_0` below.\n",
    "\n",
    "Second, what should your `integrate` function output if you plug in `ub=pi`? Set that as `int_0_to_pi` below.\n",
    "\n",
    "Then, you can execute the cell below to run two sanity checks. Write out **in math** (like, a definite integral) what each of these two tests is checking and **why** that is a reasonable sanity check.\n",
    "\n",
    "If these two assertions run without fail, then things seem to be working okay. Note that the upper endpoint test is stochastic, so if it fails, try running it a few times. If it fails a lot, then things are probably going wrong."
   ]
  },
  {
   "cell_type": "code",
   "execution_count": 10,
   "metadata": {},
   "outputs": [],
   "source": [
    "# Part E solution here"
   ]
  },
  {
   "cell_type": "markdown",
   "metadata": {},
   "source": [
    "**Part F.** Run your simulation with `isPlot=True` and `ub=2` for 1,000 samples so we can see your plot. Then, run your simulation (with `isPlot=False`) with at least 10,000 samples and estimate the value of the given integral. Be sure to leave your cells evaluated for the graders! Does your estimate agree with the exact value of the integral you computed in **Part A**? "
   ]
  },
  {
   "cell_type": "code",
   "execution_count": 11,
   "metadata": {},
   "outputs": [],
   "source": [
    "# Part F solution here"
   ]
  }
 ],
 "metadata": {
  "kernelspec": {
   "display_name": "Python 3 (ipykernel)",
   "language": "python",
   "name": "python3"
  },
  "language_info": {
   "codemirror_mode": {
    "name": "ipython",
    "version": 3
   },
   "file_extension": ".py",
   "mimetype": "text/x-python",
   "name": "python",
   "nbconvert_exporter": "python",
   "pygments_lexer": "ipython3",
   "version": "3.9.6"
  }
 },
 "nbformat": 4,
 "nbformat_minor": 4
}
