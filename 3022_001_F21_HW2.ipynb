{
 "cells": [
  {
   "cell_type": "markdown",
   "metadata": {},
   "source": [
    "<a id='top'></a>\n",
    "\n",
    "# CSCI3022 F21\n",
    "# Homework 2: Visualizing and Processing Data\n",
    "***\n",
    "\n",
    "**Name**: Nathan Shaver\n",
    "***\n",
    "\n",
    "This assignment is due on Canvas (as .ipynb) and Gradescope (as a .pdf) by **MIDNIGHT on Mon 13 Sep**. Your solutions to theoretical questions should be done in Markdown directly below the associated question.  Your solutions to computational questions should include any specified Python code and results as well as written commentary on your conclusions.  Remember that you are encouraged to discuss the problems with your classmates, but **you must write all code and solutions on your own**.\n",
    "\n",
    "**NOTES**: \n",
    "\n",
    "- Any relevant data sets should be available on Canvas. To make life easier on the graders if they need to run your code, do not change the relative path names here. Instead, move the files around on your computer.\n",
    "- If you're not familiar with typesetting math directly into Markdown then by all means, do your work on paper first and then typeset it later.  Here is a [reference guide](https://math.meta.stackexchange.com/questions/5020/mathjax-basic-tutorial-and-quick-reference) linked on Canvas on writing math in Markdown. **All** of your written commentary, justifications and mathematical work should be in Markdown.  I also recommend the [wikibook](https://en.wikibooks.org/wiki/LaTeX) for LaTex.\n",
    "- Because you can technically evaluate notebook cells is a non-linear order, it's a good idea to do **Kernel $\\rightarrow$ Restart & Run All** as a check before submitting your solutions.  That way if we need to run your code you will know that it will work as expected. \n",
    "- It is **bad form** to make your reader interpret numerical output from your code.  If a question asks you to compute some value from the data you should show your code output **AND** write a summary of the results in Markdown directly below your code. \n",
    "- 45 points of this assignment are in problems.  The remaining 5 are for neatness, style, and overall exposition of both code and text.\n",
    "- This probably goes without saying, but... For any question that asks you to calculate something, you **must show all work and justify your answers to receive credit**. Sparse or nonexistent work will receive sparse or nonexistent credit. \n",
    "\n",
    "---\n",
    "**Shortcuts:**  [Problem 1](#p1) | [Problem 2](#p2) |\n",
    "---"
   ]
  },
  {
   "cell_type": "code",
   "execution_count": 1,
   "metadata": {},
   "outputs": [],
   "source": [
    "import numpy as np\n",
    "import pandas as pd\n",
    "import matplotlib.pylab as plt\n",
    "%matplotlib inline\n",
    "\n"
   ]
  },
  {
   "cell_type": "markdown",
   "metadata": {},
   "source": [
    "[Back to top](#top)\n",
    "<a/ id='p1'></a>\n",
    "\n",
    "## (20 pts) Problem 1: Computation (Streaming Means)\n",
    "***\n",
    "\n",
    "Data science is often divided into two categories: questions of *what* the best value might be to repreesnt a data problem, and questions of *how* to compute that data value.  Question 1 - and prior lectures - should tell you that computing the mean is valuable!  But *how* do we compute the mean?\n",
    "\n",
    "Let $x_1, x_2, \\ldots, x_n$ be $n$ observations of a variable of interest.  Recall that the sample mean $\\bar{x}_n$ and sample variance $s^2_n$ are given by \n",
    "<a id='eq1'></a>\n",
    "$$\n",
    "\\bar{x}_n = \\frac{1}{n}\\sum_{k=1}^n x_k \\quad \\textrm{and} \\quad s^2_n = \\frac{1}{n-1}\\sum_{k=1}^n \\left( x_k - \\bar{x}_n\\right)^2 \\qquad \\tag{Equation 1}\n",
    "$$"
   ]
  },
  {
   "cell_type": "markdown",
   "metadata": {},
   "source": [
    "**Part A**:\n",
    "\n",
    "How many computations - floating point operations: addition, subtraction, multiplication, division each count as 1 operation - are required to compute the mean of the data set with $n$ observations?\n"
   ]
  },
  {
   "cell_type": "markdown",
   "metadata": {},
   "source": [
    "**Part A Solution:** Adding up each number will take n - 1 operations. For example:\n",
    "\n",
    "1 + 2 + 3 + ... + n will take n - 1 operations.\n",
    "\n",
    "It takes a single operation to divide the entire set by n. Added together, the total number of floating point operations is given by this equation:\n",
    "\n",
    "(n - 1) + 1 = n"
   ]
  },
  {
   "cell_type": "markdown",
   "metadata": {},
   "source": [
    "**Part B**:\n",
    "\n",
    "Now suppose our data is *streaming*- we slowly add observations one at a time, instead of seeing the entire data set at once.  We are still interested in the mean, so if we stream the data set `[4,6,0,10, ...]`, we first compute the mean of the the first data point `[4]`, then we recompute the mean of the first two points `[4,6]`, then we recompute the mean of three `[4,6,0]`, and so forth.\n",
    "\n",
    "Suppose we recompute the mean from scratch after each and every one of our $n$ observations are one-by-one added to our data set.  How many floating point operations are spent computing (and re-computing) the mean of the data set?"
   ]
  },
  {
   "cell_type": "markdown",
   "metadata": {},
   "source": [
    "**Part B Solution:** By retaining the total sum of the data set, it takes two operations to calculate the mean. One operation for adding a new number and another for dividing by the total set of numbers. As such, it takes n -2 operations to completely calculate the mean via streaming. This method is much more time costly.\n"
   ]
  },
  {
   "cell_type": "markdown",
   "metadata": {},
   "source": [
    "We should be convinced that streaming a mean costs a lot more computer time than just computing once!\n",
    "\n",
    "In this problem we explore a smarter method for such an _online_ computation of the mean.  \n",
    "\n",
    "**Result**: The following relation holds between the mean of the first $n-1$ observations and the mean of all $n$ observations: \n",
    "\n",
    "$$\n",
    "\\bar{x}_n = \\bar{x}_{n-1} + \\frac{x_n - \\bar{x}_{n-1}}{n}\n",
    "$$\n",
    "\n",
    "\n",
    "A proof of this result is in the [Appendix](#Appendix) after this problem, and requires some careful manipulations of the sum $\\bar{x}_n$.  Your task will be to computationally verify and utilize this result.\n",
    "\n",
    "**Part C**: Write a function `my_sample_mean` that takes as its input a numpy array and returns the mean of that numpy array using the formulas from class ([Equation 1](#eq1)). Write another function `my_sample_var` that takes as its input a numpy array and returns the variance of that numpy array, again using the formulas from class ([Equation 1](#eq1)). You may **not** use any built-in sample mean or variance functions."
   ]
  },
  {
   "cell_type": "code",
   "execution_count": 2,
   "metadata": {},
   "outputs": [],
   "source": [
    "#Solution:\n",
    "\n",
    "#function that return the mean of a list\n",
    "def my_sample_mean(totalList):\n",
    "    totalMean = sum(totalList) / len(totalList)\n",
    "    return(totalMean)\n",
    "\n",
    "#function that returns the variance of a list\n",
    "def my_sample_var(totalListVar):\n",
    "    total = 0\n",
    "    i = 0\n",
    "    totalMeanVar = my_sample_mean(totalListVar)\n",
    "    for i in totalListVar:\n",
    "        total = ((abs(i - totalMeanVar)) ** 2) + total\n",
    "    finalVar = total / (len(totalListVar) - 1)\n",
    "    return(finalVar)"
   ]
  },
  {
   "cell_type": "markdown",
   "metadata": {},
   "source": [
    "**Part D**: Use your functions from Part C to compute the sample mean and sample variance of the following array, which contains the minutes late that the BuffBus is running on Friday afternoon.\n",
    "\n",
    "`bus = [312, 4, 10, 0, 22, 39, 81, 19, 8, 60, 80, 42,12,1]`"
   ]
  },
  {
   "cell_type": "code",
   "execution_count": 3,
   "metadata": {},
   "outputs": [
    {
     "name": "stdout",
     "output_type": "stream",
     "text": [
      "The mean is:  49.285714285714285\n",
      "The variance is:  6488.681318681319\n"
     ]
    }
   ],
   "source": [
    "bus = [312, 4, 10, 0, 22, 39, 81, 19, 8, 60, 80, 42,12,1]\n",
    "print(\"The mean is: \", my_sample_mean(bus))\n",
    "print(\"The variance is: \", my_sample_var(bus))"
   ]
  },
  {
   "cell_type": "markdown",
   "metadata": {},
   "source": [
    "**Part E**: Implement a third function called `update_mean` that implements the formula discussed after part B. Note that this function will need to take as its input three things: $x_n$, $\\bar{x}_{n-1}$ and $n$, and returns $\\bar{x}_{n}$. A function header and return statement are provided for you. This function may be auto-graded, so please do not change the given header API - the order of inputs matters! If you change it, you might lose points.\n",
    "\n",
    "Use this function to compute the values that you get from taking the mean of the first buff buses' lateness, the first two buff buses' lateness, the first three buff buses' lateness, and so on up to all of the `bus` data points from **Part D**. Store your streaming bus means in a numpy array called `buffbus_bad_means`.  Report all 12 estimates in `buffbus_bad_means`."
   ]
  },
  {
   "cell_type": "code",
   "execution_count": 4,
   "metadata": {},
   "outputs": [],
   "source": [
    "# Given API:\n",
    "def update_mean(prev_mean, xn, n):\n",
    "    new_mean = (((xn - prev_mean)/n) + prev_mean)\n",
    "    return(new_mean)\n",
    "\n",
    "previous = 0\n",
    "buffbus_bad_means = np.array([])\n",
    "\n",
    "#for loop that runs through each element in the bus\n",
    "for y,x in enumerate(bus):\n",
    "    values = update_mean(previous, x, y + 1)\n",
    "    newArray = np.append(buffbus_bad_means, values)\n",
    "    previous = values\n"
   ]
  },
  {
   "cell_type": "markdown",
   "metadata": {},
   "source": [
    "To ensure your function complies with the given API, run this small test, where we suppose we have a mean of $\\bar{x}_n = 1$ with the first $2$ data points (`prev_mean`), and we update this with the 3rd ($n=3$) data point which is $x_3=2$:"
   ]
  },
  {
   "cell_type": "code",
   "execution_count": 5,
   "metadata": {},
   "outputs": [],
   "source": [
    "assert update_mean(1,2,3)==4/3, \"Warning: function seems broken.\""
   ]
  },
  {
   "cell_type": "markdown",
   "metadata": {},
   "source": [
    "**Part F**:\n",
    "\n",
    "How many floating point operations were spent computing the final result in your code in part E?  Is this truly better than the uninformed approach from part B?"
   ]
  },
  {
   "cell_type": "markdown",
   "metadata": {},
   "source": [
    "**1F Solution:**\n",
    "\n",
    "For each call of update_mean, a single addition, subtraction and division operation is performed. Update_mean is called for every element in the bus array. Therefore, the number of floating point operations spent were the length of the bus array * 3, or 3n. This is better effecincy wise then our solution in 1B."
   ]
  },
  {
   "cell_type": "markdown",
   "metadata": {},
   "source": [
    "**Part G:**\n",
    "A similar result to the formula preceding part C holds for variance.  In particular, we can write that:\n",
    "\n",
    "$$\n",
    "\\displaystyle s^2 = \\frac{\\sum_{i=1}^n (x_i-\\bar{x})^2}{n-1} = \\frac{1}{n(n-1)} \\left(n \\cdot \\sum_{i=1}^n x_i^2 - \\left(\\sum_{i=1}^n x_i \\right)^2 \\right)\n",
    "$$\n",
    "\n",
    "Describe in **words** and/or **psuedocode** how you might adapt the function you made in part **E** to perform running calculations of *both* variance and mean.  Be very clear as to what the input/instantiation arguments would be as well as what the output arguments would be in addition to any intermediate calculations."
   ]
  },
  {
   "cell_type": "markdown",
   "metadata": {},
   "source": [
    "**2G Solution:**\n",
    "\n",
    "def mean(list, length):\n",
    "\n",
    "    return (sum(list) / length)\n",
    "    \n",
    "def variance(list, length, mean):\n",
    "\n",
    "    sum = []\n",
    "    \n",
    "    while i < length\n",
    "    \n",
    "        sum[i] = list[i] - mean\n",
    "        \n",
    "        sum[i] = sum[i] * sum[i]\n",
    "        \n",
    "    variance = sum(sum)/length\n",
    "    \n",
    "    return(variance)\n",
    "    \n",
    "def meanVariance(list):\n",
    "\n",
    "    length = len(list)\n",
    "    \n",
    "    mean = mean(list, length)\n",
    "    \n",
    "    print variance(list, length, mean)\n"
   ]
  },
  {
   "cell_type": "markdown",
   "metadata": {},
   "source": [
    "<a id='Appendix'></a>\n",
    "\n",
    "## Appendix \n",
    "\n",
    "*Goal*: Prove that \n",
    "$$\n",
    "\\bar{x}_n = \\bar{x}_{n-1} + \\frac{x_n - \\bar{x}_{n-1}}{n}\n",
    "$$\n",
    "\n",
    "Note that you can get an expression for $\\bar{x}_{n-1}$ by simply replacing $n$ in Equation 1 above with $n-1$.\n",
    "\n",
    "We'll start with $\\bar{x}_n$ and massage it until we get the righthand side of the formula\n",
    "\n",
    "\\begin{eqnarray}\n",
    "\\nonumber \\bar{x}_n &=& \\frac{1}{n} \\sum_{k=1}^n x_k \\\\\n",
    "&=& \\frac{1}{n} \\sum_{k=1}^{n-1} x_k + \\frac{1}{n}x_n \\\\\n",
    "&=& \\frac{n-1}{n-1}\\frac{1}{n} \\sum_{k=1}^{n-1} x_k + \\frac{1}{n}x_n \\\\\n",
    "&=& \\frac{n-1}{n} \\left(\\frac{1}{n-1} \\sum_{k=1}^{n-1} x_k\\right) + \\frac{1}{n}x_n \\\\\n",
    "&=& \\frac{n-1}{n} \\bar{x}_{n-1} + \\frac{1}{n}x_n \\\\\n",
    "&=& \\frac{n}{n}\\bar{x}_{n-1} - \\frac{1}{n}\\bar{x}_{n-1} + \\frac{1}{n}x_n \\\\\n",
    "&=&  \\bar{x}_{n-1} + \\frac{x_n - \\bar{x}_{n-1}}{n} \\quad \\checkmark\n",
    "\\end{eqnarray}\n",
    "\n"
   ]
  },
  {
   "cell_type": "markdown",
   "metadata": {},
   "source": [
    "## (25 pts) Problem 2: Data (Grouping and Plotting)\n",
    "\n",
    "The US Census Bureau is one of the largest data gathering organizations in the year.  They often have to analyze data involving the entire nation and describe it according to a variety of factors, including grouping by location (state, city, neighorhood), demographic factors, time, and more.  For this problem we have access to 10 years of state-wide reported unemployment data: for each of the reporting governments, we have 120 months of unemployment percentages.\n",
    "\n",
    "Our goal is to explore this data and visualize it."
   ]
  },
  {
   "cell_type": "code",
   "execution_count": 6,
   "metadata": {},
   "outputs": [
    {
     "data": {
      "text/html": [
       "<div>\n",
       "<style scoped>\n",
       "    .dataframe tbody tr th:only-of-type {\n",
       "        vertical-align: middle;\n",
       "    }\n",
       "\n",
       "    .dataframe tbody tr th {\n",
       "        vertical-align: top;\n",
       "    }\n",
       "\n",
       "    .dataframe thead th {\n",
       "        text-align: right;\n",
       "    }\n",
       "</style>\n",
       "<table border=\"1\" class=\"dataframe\">\n",
       "  <thead>\n",
       "    <tr style=\"text-align: right;\">\n",
       "      <th></th>\n",
       "      <th>Series ID</th>\n",
       "      <th>11-Jan</th>\n",
       "      <th>11-Feb</th>\n",
       "      <th>11-Mar</th>\n",
       "      <th>11-Apr</th>\n",
       "      <th>11-May</th>\n",
       "      <th>11-Jun</th>\n",
       "      <th>11-Jul</th>\n",
       "      <th>11-Aug</th>\n",
       "      <th>11-Sep</th>\n",
       "      <th>...</th>\n",
       "      <th>20-Mar</th>\n",
       "      <th>20-Apr</th>\n",
       "      <th>20-May</th>\n",
       "      <th>20-Jun</th>\n",
       "      <th>20-Jul</th>\n",
       "      <th>20-Aug</th>\n",
       "      <th>20-Sep</th>\n",
       "      <th>20-Oct</th>\n",
       "      <th>20-Nov</th>\n",
       "      <th>20-Dec</th>\n",
       "    </tr>\n",
       "  </thead>\n",
       "  <tbody>\n",
       "    <tr>\n",
       "      <th>0</th>\n",
       "      <td>1</td>\n",
       "      <td>10.7</td>\n",
       "      <td>10.3</td>\n",
       "      <td>9.8</td>\n",
       "      <td>9.2</td>\n",
       "      <td>9.3</td>\n",
       "      <td>10.3</td>\n",
       "      <td>10.1</td>\n",
       "      <td>9.8</td>\n",
       "      <td>9.5</td>\n",
       "      <td>...</td>\n",
       "      <td>2.8</td>\n",
       "      <td>12.7</td>\n",
       "      <td>7.6</td>\n",
       "      <td>8.0</td>\n",
       "      <td>7.9</td>\n",
       "      <td>7.3</td>\n",
       "      <td>6.8</td>\n",
       "      <td>4.3</td>\n",
       "      <td>3.8</td>\n",
       "      <td>3.5</td>\n",
       "    </tr>\n",
       "    <tr>\n",
       "      <th>1</th>\n",
       "      <td>2</td>\n",
       "      <td>9.0</td>\n",
       "      <td>8.9</td>\n",
       "      <td>8.6</td>\n",
       "      <td>8.0</td>\n",
       "      <td>7.6</td>\n",
       "      <td>7.8</td>\n",
       "      <td>7.0</td>\n",
       "      <td>6.7</td>\n",
       "      <td>7.0</td>\n",
       "      <td>...</td>\n",
       "      <td>6.2</td>\n",
       "      <td>12.4</td>\n",
       "      <td>12.0</td>\n",
       "      <td>11.2</td>\n",
       "      <td>10.2</td>\n",
       "      <td>6.2</td>\n",
       "      <td>6.5</td>\n",
       "      <td>5.9</td>\n",
       "      <td>6.3</td>\n",
       "      <td>6.6</td>\n",
       "    </tr>\n",
       "    <tr>\n",
       "      <th>2</th>\n",
       "      <td>4</td>\n",
       "      <td>10.1</td>\n",
       "      <td>9.6</td>\n",
       "      <td>9.3</td>\n",
       "      <td>9.1</td>\n",
       "      <td>8.9</td>\n",
       "      <td>10.4</td>\n",
       "      <td>10.2</td>\n",
       "      <td>9.8</td>\n",
       "      <td>9.5</td>\n",
       "      <td>...</td>\n",
       "      <td>5.2</td>\n",
       "      <td>14.2</td>\n",
       "      <td>10.7</td>\n",
       "      <td>10.8</td>\n",
       "      <td>10.9</td>\n",
       "      <td>7.1</td>\n",
       "      <td>7.0</td>\n",
       "      <td>6.4</td>\n",
       "      <td>6.4</td>\n",
       "      <td>6.7</td>\n",
       "    </tr>\n",
       "    <tr>\n",
       "      <th>3</th>\n",
       "      <td>5</td>\n",
       "      <td>8.9</td>\n",
       "      <td>8.7</td>\n",
       "      <td>8.0</td>\n",
       "      <td>7.5</td>\n",
       "      <td>7.8</td>\n",
       "      <td>8.3</td>\n",
       "      <td>8.3</td>\n",
       "      <td>7.9</td>\n",
       "      <td>7.7</td>\n",
       "      <td>...</td>\n",
       "      <td>4.2</td>\n",
       "      <td>9.7</td>\n",
       "      <td>8.7</td>\n",
       "      <td>7.9</td>\n",
       "      <td>7.5</td>\n",
       "      <td>6.3</td>\n",
       "      <td>5.8</td>\n",
       "      <td>4.8</td>\n",
       "      <td>4.8</td>\n",
       "      <td>4.7</td>\n",
       "    </tr>\n",
       "    <tr>\n",
       "      <th>4</th>\n",
       "      <td>6</td>\n",
       "      <td>12.7</td>\n",
       "      <td>12.4</td>\n",
       "      <td>12.3</td>\n",
       "      <td>11.7</td>\n",
       "      <td>11.5</td>\n",
       "      <td>12.2</td>\n",
       "      <td>12.4</td>\n",
       "      <td>12.1</td>\n",
       "      <td>11.7</td>\n",
       "      <td>...</td>\n",
       "      <td>5.1</td>\n",
       "      <td>16.0</td>\n",
       "      <td>15.5</td>\n",
       "      <td>14.1</td>\n",
       "      <td>13.6</td>\n",
       "      <td>12.3</td>\n",
       "      <td>10.5</td>\n",
       "      <td>9.3</td>\n",
       "      <td>8.3</td>\n",
       "      <td>9.1</td>\n",
       "    </tr>\n",
       "  </tbody>\n",
       "</table>\n",
       "<p>5 rows × 121 columns</p>\n",
       "</div>"
      ],
      "text/plain": [
       "   Series ID  11-Jan  11-Feb  11-Mar  11-Apr  11-May  11-Jun  11-Jul  11-Aug  \\\n",
       "0          1    10.7    10.3     9.8     9.2     9.3    10.3    10.1     9.8   \n",
       "1          2     9.0     8.9     8.6     8.0     7.6     7.8     7.0     6.7   \n",
       "2          4    10.1     9.6     9.3     9.1     8.9    10.4    10.2     9.8   \n",
       "3          5     8.9     8.7     8.0     7.5     7.8     8.3     8.3     7.9   \n",
       "4          6    12.7    12.4    12.3    11.7    11.5    12.2    12.4    12.1   \n",
       "\n",
       "   11-Sep  ...  20-Mar  20-Apr  20-May  20-Jun  20-Jul  20-Aug  20-Sep  \\\n",
       "0     9.5  ...     2.8    12.7     7.6     8.0     7.9     7.3     6.8   \n",
       "1     7.0  ...     6.2    12.4    12.0    11.2    10.2     6.2     6.5   \n",
       "2     9.5  ...     5.2    14.2    10.7    10.8    10.9     7.1     7.0   \n",
       "3     7.7  ...     4.2     9.7     8.7     7.9     7.5     6.3     5.8   \n",
       "4    11.7  ...     5.1    16.0    15.5    14.1    13.6    12.3    10.5   \n",
       "\n",
       "   20-Oct  20-Nov  20-Dec  \n",
       "0     4.3     3.8     3.5  \n",
       "1     5.9     6.3     6.6  \n",
       "2     6.4     6.4     6.7  \n",
       "3     4.8     4.8     4.7  \n",
       "4     9.3     8.3     9.1  \n",
       "\n",
       "[5 rows x 121 columns]"
      ]
     },
     "execution_count": 6,
     "metadata": {},
     "output_type": "execute_result"
    }
   ],
   "source": [
    "df=pd.read_csv('/home/jovyan/3022/hw/hw2/employment.csv', encoding='UTF-8')\n",
    "dfstates=pd.read_csv('/home/jovyan/3022/hw/hw2/stategeocodes.csv', encoding='UTF-8')\n",
    "df.head()"
   ]
  },
  {
   "cell_type": "markdown",
   "metadata": {},
   "source": [
    "**Part A:**  Load in the data above from both `employment.csv` and `stategeocodes.csv` and make sure you understand the data's shape and form.  For each file, check out `pd.dtypes` then print out `pd.shape` and `pd.head`.  Is each field of the correct data type?  Do we have the expected number of rows for tracking all 50 states?\n"
   ]
  },
  {
   "cell_type": "code",
   "execution_count": 7,
   "metadata": {},
   "outputs": [
    {
     "name": "stdout",
     "output_type": "stream",
     "text": [
      "Series ID      int64\n",
      "11-Jan       float64\n",
      "11-Feb       float64\n",
      "11-Mar       float64\n",
      "11-Apr       float64\n",
      "              ...   \n",
      "20-Aug       float64\n",
      "20-Sep       float64\n",
      "20-Oct       float64\n",
      "20-Nov       float64\n",
      "20-Dec       float64\n",
      "Length: 121, dtype: object\n",
      "(51, 121)\n",
      "   Series ID  11-Jan  11-Feb  11-Mar  11-Apr  11-May  11-Jun  11-Jul  11-Aug  \\\n",
      "0          1    10.7    10.3     9.8     9.2     9.3    10.3    10.1     9.8   \n",
      "1          2     9.0     8.9     8.6     8.0     7.6     7.8     7.0     6.7   \n",
      "2          4    10.1     9.6     9.3     9.1     8.9    10.4    10.2     9.8   \n",
      "3          5     8.9     8.7     8.0     7.5     7.8     8.3     8.3     7.9   \n",
      "4          6    12.7    12.4    12.3    11.7    11.5    12.2    12.4    12.1   \n",
      "\n",
      "   11-Sep  ...  20-Mar  20-Apr  20-May  20-Jun  20-Jul  20-Aug  20-Sep  \\\n",
      "0     9.5  ...     2.8    12.7     7.6     8.0     7.9     7.3     6.8   \n",
      "1     7.0  ...     6.2    12.4    12.0    11.2    10.2     6.2     6.5   \n",
      "2     9.5  ...     5.2    14.2    10.7    10.8    10.9     7.1     7.0   \n",
      "3     7.7  ...     4.2     9.7     8.7     7.9     7.5     6.3     5.8   \n",
      "4    11.7  ...     5.1    16.0    15.5    14.1    13.6    12.3    10.5   \n",
      "\n",
      "   20-Oct  20-Nov  20-Dec  \n",
      "0     4.3     3.8     3.5  \n",
      "1     5.9     6.3     6.6  \n",
      "2     6.4     6.4     6.7  \n",
      "3     4.8     4.8     4.7  \n",
      "4     9.3     8.3     9.1  \n",
      "\n",
      "[5 rows x 121 columns]\n",
      "Region           int64\n",
      "Division         int64\n",
      "State (FIPS)     int64\n",
      "Name            object\n",
      "dtype: object\n",
      "(64, 4)\n",
      "   Region  Division  State (FIPS)                  Name\n",
      "0       1         0             0      Northeast Region\n",
      "1       1         1             0  New England Division\n",
      "2       1         1             9           Connecticut\n",
      "3       1         1            23                 Maine\n",
      "4       1         1            25         Massachusetts\n"
     ]
    }
   ],
   "source": [
    "print (df.dtypes)\n",
    "print (df.shape)\n",
    "print (df.head())\n",
    "print (dfstates.dtypes)\n",
    "print (dfstates.shape)\n",
    "print (dfstates.head())"
   ]
  },
  {
   "cell_type": "markdown",
   "metadata": {},
   "source": [
    "**Part B:**  The official US census divides the US into 4 super-regions, [shown here](https://www2.census.gov/geo/pdfs/maps-data/maps/reference/us_regdiv.pdf).  Add a column for `Region` and assign all of the regions to their correct region.  \n",
    "\n",
    "Unfortunately, the data wasn't given with these regions, so we have to add them in using the second data file.  We also only have odd codes for each of the states, instead of their names!  Add both `\"State\"` and `\"Region:` columns to the employment data frame with the actual state names and their region numbers or names. You can match IDs from `State (FIPS)` in the `stategeocodes.csv` to the `Series ID` from `employment.csv`.\n"
   ]
  },
  {
   "cell_type": "code",
   "execution_count": 8,
   "metadata": {},
   "outputs": [
    {
     "name": "stderr",
     "output_type": "stream",
     "text": [
      "/tmp/ipykernel_483/2055849298.py:8: SettingWithCopyWarning: \n",
      "A value is trying to be set on a copy of a slice from a DataFrame\n",
      "\n",
      "See the caveats in the documentation: https://pandas.pydata.org/pandas-docs/stable/user_guide/indexing.html#returning-a-view-versus-a-copy\n",
      "  df[\"State\"][i] = dfstates.loc[df[\"Series ID\"][i] == dfstates[\"State (FIPS)\"], \"Name\"].values[0]\n",
      "/tmp/ipykernel_483/2055849298.py:9: SettingWithCopyWarning: \n",
      "A value is trying to be set on a copy of a slice from a DataFrame\n",
      "\n",
      "See the caveats in the documentation: https://pandas.pydata.org/pandas-docs/stable/user_guide/indexing.html#returning-a-view-versus-a-copy\n",
      "  df[\"Region\"][i] = dfstates.loc[df[\"Series ID\"][i] == dfstates[\"State (FIPS)\"], \"Region\"].values[0]\n"
     ]
    },
    {
     "data": {
      "text/html": [
       "<div>\n",
       "<style scoped>\n",
       "    .dataframe tbody tr th:only-of-type {\n",
       "        vertical-align: middle;\n",
       "    }\n",
       "\n",
       "    .dataframe tbody tr th {\n",
       "        vertical-align: top;\n",
       "    }\n",
       "\n",
       "    .dataframe thead th {\n",
       "        text-align: right;\n",
       "    }\n",
       "</style>\n",
       "<table border=\"1\" class=\"dataframe\">\n",
       "  <thead>\n",
       "    <tr style=\"text-align: right;\">\n",
       "      <th></th>\n",
       "      <th>Series ID</th>\n",
       "      <th>11-Jan</th>\n",
       "      <th>11-Feb</th>\n",
       "      <th>11-Mar</th>\n",
       "      <th>11-Apr</th>\n",
       "      <th>11-May</th>\n",
       "      <th>11-Jun</th>\n",
       "      <th>11-Jul</th>\n",
       "      <th>11-Aug</th>\n",
       "      <th>11-Sep</th>\n",
       "      <th>...</th>\n",
       "      <th>20-May</th>\n",
       "      <th>20-Jun</th>\n",
       "      <th>20-Jul</th>\n",
       "      <th>20-Aug</th>\n",
       "      <th>20-Sep</th>\n",
       "      <th>20-Oct</th>\n",
       "      <th>20-Nov</th>\n",
       "      <th>20-Dec</th>\n",
       "      <th>State</th>\n",
       "      <th>Region</th>\n",
       "    </tr>\n",
       "  </thead>\n",
       "  <tbody>\n",
       "    <tr>\n",
       "      <th>0</th>\n",
       "      <td>1</td>\n",
       "      <td>10.7</td>\n",
       "      <td>10.3</td>\n",
       "      <td>9.8</td>\n",
       "      <td>9.2</td>\n",
       "      <td>9.3</td>\n",
       "      <td>10.3</td>\n",
       "      <td>10.1</td>\n",
       "      <td>9.8</td>\n",
       "      <td>9.5</td>\n",
       "      <td>...</td>\n",
       "      <td>7.6</td>\n",
       "      <td>8.0</td>\n",
       "      <td>7.9</td>\n",
       "      <td>7.3</td>\n",
       "      <td>6.8</td>\n",
       "      <td>4.3</td>\n",
       "      <td>3.8</td>\n",
       "      <td>3.5</td>\n",
       "      <td>Alabama</td>\n",
       "      <td>3</td>\n",
       "    </tr>\n",
       "    <tr>\n",
       "      <th>1</th>\n",
       "      <td>2</td>\n",
       "      <td>9.0</td>\n",
       "      <td>8.9</td>\n",
       "      <td>8.6</td>\n",
       "      <td>8.0</td>\n",
       "      <td>7.6</td>\n",
       "      <td>7.8</td>\n",
       "      <td>7.0</td>\n",
       "      <td>6.7</td>\n",
       "      <td>7.0</td>\n",
       "      <td>...</td>\n",
       "      <td>12.0</td>\n",
       "      <td>11.2</td>\n",
       "      <td>10.2</td>\n",
       "      <td>6.2</td>\n",
       "      <td>6.5</td>\n",
       "      <td>5.9</td>\n",
       "      <td>6.3</td>\n",
       "      <td>6.6</td>\n",
       "      <td>Alaska</td>\n",
       "      <td>4</td>\n",
       "    </tr>\n",
       "    <tr>\n",
       "      <th>2</th>\n",
       "      <td>4</td>\n",
       "      <td>10.1</td>\n",
       "      <td>9.6</td>\n",
       "      <td>9.3</td>\n",
       "      <td>9.1</td>\n",
       "      <td>8.9</td>\n",
       "      <td>10.4</td>\n",
       "      <td>10.2</td>\n",
       "      <td>9.8</td>\n",
       "      <td>9.5</td>\n",
       "      <td>...</td>\n",
       "      <td>10.7</td>\n",
       "      <td>10.8</td>\n",
       "      <td>10.9</td>\n",
       "      <td>7.1</td>\n",
       "      <td>7.0</td>\n",
       "      <td>6.4</td>\n",
       "      <td>6.4</td>\n",
       "      <td>6.7</td>\n",
       "      <td>Arizona</td>\n",
       "      <td>4</td>\n",
       "    </tr>\n",
       "    <tr>\n",
       "      <th>3</th>\n",
       "      <td>5</td>\n",
       "      <td>8.9</td>\n",
       "      <td>8.7</td>\n",
       "      <td>8.0</td>\n",
       "      <td>7.5</td>\n",
       "      <td>7.8</td>\n",
       "      <td>8.3</td>\n",
       "      <td>8.3</td>\n",
       "      <td>7.9</td>\n",
       "      <td>7.7</td>\n",
       "      <td>...</td>\n",
       "      <td>8.7</td>\n",
       "      <td>7.9</td>\n",
       "      <td>7.5</td>\n",
       "      <td>6.3</td>\n",
       "      <td>5.8</td>\n",
       "      <td>4.8</td>\n",
       "      <td>4.8</td>\n",
       "      <td>4.7</td>\n",
       "      <td>Arkansas</td>\n",
       "      <td>3</td>\n",
       "    </tr>\n",
       "    <tr>\n",
       "      <th>4</th>\n",
       "      <td>6</td>\n",
       "      <td>12.7</td>\n",
       "      <td>12.4</td>\n",
       "      <td>12.3</td>\n",
       "      <td>11.7</td>\n",
       "      <td>11.5</td>\n",
       "      <td>12.2</td>\n",
       "      <td>12.4</td>\n",
       "      <td>12.1</td>\n",
       "      <td>11.7</td>\n",
       "      <td>...</td>\n",
       "      <td>15.5</td>\n",
       "      <td>14.1</td>\n",
       "      <td>13.6</td>\n",
       "      <td>12.3</td>\n",
       "      <td>10.5</td>\n",
       "      <td>9.3</td>\n",
       "      <td>8.3</td>\n",
       "      <td>9.1</td>\n",
       "      <td>California</td>\n",
       "      <td>4</td>\n",
       "    </tr>\n",
       "  </tbody>\n",
       "</table>\n",
       "<p>5 rows × 123 columns</p>\n",
       "</div>"
      ],
      "text/plain": [
       "   Series ID  11-Jan  11-Feb  11-Mar  11-Apr  11-May  11-Jun  11-Jul  11-Aug  \\\n",
       "0          1    10.7    10.3     9.8     9.2     9.3    10.3    10.1     9.8   \n",
       "1          2     9.0     8.9     8.6     8.0     7.6     7.8     7.0     6.7   \n",
       "2          4    10.1     9.6     9.3     9.1     8.9    10.4    10.2     9.8   \n",
       "3          5     8.9     8.7     8.0     7.5     7.8     8.3     8.3     7.9   \n",
       "4          6    12.7    12.4    12.3    11.7    11.5    12.2    12.4    12.1   \n",
       "\n",
       "   11-Sep  ...  20-May  20-Jun  20-Jul  20-Aug  20-Sep  20-Oct  20-Nov  \\\n",
       "0     9.5  ...     7.6     8.0     7.9     7.3     6.8     4.3     3.8   \n",
       "1     7.0  ...    12.0    11.2    10.2     6.2     6.5     5.9     6.3   \n",
       "2     9.5  ...    10.7    10.8    10.9     7.1     7.0     6.4     6.4   \n",
       "3     7.7  ...     8.7     7.9     7.5     6.3     5.8     4.8     4.8   \n",
       "4    11.7  ...    15.5    14.1    13.6    12.3    10.5     9.3     8.3   \n",
       "\n",
       "   20-Dec       State  Region  \n",
       "0     3.5     Alabama       3  \n",
       "1     6.6      Alaska       4  \n",
       "2     6.7     Arizona       4  \n",
       "3     4.7    Arkansas       3  \n",
       "4     9.1  California       4  \n",
       "\n",
       "[5 rows x 123 columns]"
      ]
     },
     "execution_count": 8,
     "metadata": {},
     "output_type": "execute_result"
    }
   ],
   "source": [
    "#create empty columns\n",
    "df['State'] = \"\"\n",
    "df['Region'] = \"\"\n",
    "length = len(df)\n",
    "\n",
    "#for loop that populates those columns\n",
    "for i in range(length):\n",
    "    df[\"State\"][i] = dfstates.loc[df[\"Series ID\"][i] == dfstates[\"State (FIPS)\"], \"Name\"].values[0]\n",
    "    df[\"Region\"][i] = dfstates.loc[df[\"Series ID\"][i] == dfstates[\"State (FIPS)\"], \"Region\"].values[0]\n",
    "df.head()"
   ]
  },
  {
   "cell_type": "markdown",
   "metadata": {},
   "source": [
    "**Part C:**\n",
    "\n",
    "As a sanity check, loop over all the unique regions you've created and print out how many rows of your data frame are in that region.  You should find:\n",
    "\n",
    "1) 9 in the Northeast\n",
    "\n",
    "2) 12 in the Midwest\n",
    "\n",
    "3) 17 in the South\n",
    "\n",
    "4) 13 in the West"
   ]
  },
  {
   "cell_type": "code",
   "execution_count": 9,
   "metadata": {},
   "outputs": [
    {
     "name": "stdout",
     "output_type": "stream",
     "text": [
      "9 in the NorthEast\n",
      "12 in the Midwest\n",
      "17 in the South\n",
      "13 in the West\n"
     ]
    }
   ],
   "source": [
    "i = 0\n",
    "NorthEast = 0\n",
    "MidWest = 0\n",
    "South = 0\n",
    "West = 0\n",
    "\n",
    "#while loop that checks each row what region it has\n",
    "while i < len(df):\n",
    "    if(df[\"Region\"][i] == 1):\n",
    "        NorthEast = NorthEast + 1\n",
    "    elif(df[\"Region\"][i] == 2):\n",
    "        MidWest = MidWest + 1\n",
    "    elif(df[\"Region\"][i] == 3):\n",
    "        South = South + 1\n",
    "    elif(df[\"Region\"][i] == 4):\n",
    "        West = West + 1\n",
    "    i=i+1\n",
    "    \n",
    "print(NorthEast, \"in the NorthEast\")\n",
    "print(MidWest, \"in the Midwest\")\n",
    "print(South, \"in the South\")\n",
    "print(West, \"in the West\")"
   ]
  },
  {
   "cell_type": "markdown",
   "metadata": {},
   "source": [
    "**Part D:** Create a histogram of the entire data frame.  Describe it's general shape (skewness or symmetry) and whether or not it has any outliers.\n",
    "\n",
    "(Check out `np.reshape` for a nice way to turn a large matrix/array into something 1-dimensional, for easier plotting!)"
   ]
  },
  {
   "cell_type": "code",
   "execution_count": 10,
   "metadata": {},
   "outputs": [
    {
     "name": "stderr",
     "output_type": "stream",
     "text": [
      "/tmp/ipykernel_483/2561872045.py:5: FutureWarning: In a future version of pandas all arguments of DataFrame.drop except for the argument 'labels' will be keyword-only\n",
      "  dfHist = df.drop([\"State\", \"Region\"], 1)\n"
     ]
    },
    {
     "data": {
      "text/plain": [
       "Text(0, 0.5, 'Quantity of Unemployment Percentages')"
      ]
     },
     "execution_count": 10,
     "metadata": {},
     "output_type": "execute_result"
    },
    {
     "data": {
      "image/png": "[encoded data removed]",
      "text/plain": [
       "<Figure size 864x576 with 1 Axes>"
      ]
     },
     "metadata": {
      "needs_background": "light"
     },
     "output_type": "display_data"
    }
   ],
   "source": [
    "import numpy as np\n",
    "import matplotlib.pyplot as plt\n",
    "\n",
    "#new histogram with dropped state and region columns. formed into an array and reshaped\n",
    "dfHist = df.drop([\"State\", \"Region\"], 1)\n",
    "dfHist = np.array(dfHist)\n",
    "dfHist = dfHist.reshape(-1)\n",
    "\n",
    "fig, ax = plt.subplots(1,1, figsize = (12,8))\n",
    "#plotting histogram\n",
    "ax.hist(dfHist, bins = 100, density = False)\n",
    "ax.set_title(\"Unemployment percentages by state\")\n",
    "ax.set_xlabel(\"Unemployment Percentage\")\n",
    "ax.grid(alpha=.45)\n",
    "ax.set_ylabel(\"Quantity of Unemployment Percentages\")"
   ]
  },
  {
   "cell_type": "markdown",
   "metadata": {},
   "source": [
    "The graph appears to have a mostly normal distribution centered around an unemployment rate of 5%. There is a general right skewness, with sevearal significant datapoints settled inbetween 10-20%. There are also many single point outliers that extend past 20%."
   ]
  },
  {
   "cell_type": "markdown",
   "metadata": {},
   "source": [
    "**Part E:** Create a single figure with a series of box plots (4 side-by-side boxes) of the employment data grouped by each region."
   ]
  },
  {
   "cell_type": "code",
   "execution_count": 11,
   "metadata": {},
   "outputs": [
    {
     "name": "stderr",
     "output_type": "stream",
     "text": [
      "/tmp/ipykernel_483/1820191072.py:9: FutureWarning: In a future version of pandas all arguments of DataFrame.drop except for the argument 'labels' will be keyword-only\n",
      "  dfWest = dfWest.drop([\"Series ID\", \"Region\", \"State\"], 1)\n",
      "/tmp/ipykernel_483/1820191072.py:14: FutureWarning: In a future version of pandas all arguments of DataFrame.drop except for the argument 'labels' will be keyword-only\n",
      "  dfNorthEast = dfNorthEast.drop([\"Series ID\", \"Region\", \"State\"], 1)\n",
      "/tmp/ipykernel_483/1820191072.py:19: FutureWarning: In a future version of pandas all arguments of DataFrame.drop except for the argument 'labels' will be keyword-only\n",
      "  dfSouth = dfSouth.drop([\"Series ID\", \"Region\", \"State\"], 1)\n",
      "/tmp/ipykernel_483/1820191072.py:24: FutureWarning: In a future version of pandas all arguments of DataFrame.drop except for the argument 'labels' will be keyword-only\n",
      "  dfMidWest = dfMidWest.drop([\"Series ID\", \"Region\", \"State\"], 1)\n"
     ]
    },
    {
     "data": {
      "text/plain": [
       "([<matplotlib.axis.XTick at 0x7f21f16f2340>,\n",
       "  <matplotlib.axis.XTick at 0x7f21f16f2310>,\n",
       "  <matplotlib.axis.XTick at 0x7f21f1a18730>,\n",
       "  <matplotlib.axis.XTick at 0x7f21f180f160>],\n",
       " [Text(1, 0, 'Northeast'),\n",
       "  Text(2, 0, 'Midwest'),\n",
       "  Text(3, 0, 'South'),\n",
       "  Text(4, 0, 'West')])"
      ]
     },
     "execution_count": 11,
     "metadata": {},
     "output_type": "execute_result"
    },
    {
     "data": {
      "image/png": "[encoded data removed]",
      "text/plain": [
       "<Figure size 720x576 with 1 Axes>"
      ]
     },
     "metadata": {
      "needs_background": "light"
     },
     "output_type": "display_data"
    }
   ],
   "source": [
    "fig, ax = plt.subplots(1,1,figsize=(10,8))\n",
    "#new dataframes that only contains rows from that region\n",
    "dfNorthEast = df[(df['Region'] == 1)]\n",
    "dfMidWest = df[(df['Region'] == 2)]\n",
    "dfSouth = df[(df['Region'] == 3)]\n",
    "dfWest = df[(df['Region'] == 4)]\n",
    "\n",
    "#dataframe is dropped of uncessary columns, turned into an array and reshaped\n",
    "dfWest = dfWest.drop([\"Series ID\", \"Region\", \"State\"], 1)\n",
    "dfWest = np.array(dfWest)\n",
    "dfWest = dfWest.reshape(-1)\n",
    "\n",
    "#dataframe is dropped of uncessary columns, turned into an array and reshaped\n",
    "dfNorthEast = dfNorthEast.drop([\"Series ID\", \"Region\", \"State\"], 1)\n",
    "dfNorthEast = np.array(dfNorthEast)\n",
    "dfNorthEast = dfNorthEast.reshape(-1)\n",
    "\n",
    "#dataframe is dropped of uncessary columns, turned into an array and reshaped\n",
    "dfSouth = dfSouth.drop([\"Series ID\", \"Region\", \"State\"], 1)\n",
    "dfSouth = np.array(dfSouth)\n",
    "dfSouth = dfSouth.reshape(-1)\n",
    "\n",
    "#dataframe is dropped of uncessary columns, turned into an array and reshaped\n",
    "dfMidWest = dfMidWest.drop([\"Series ID\", \"Region\", \"State\"], 1)\n",
    "dfMidWest = np.array(dfMidWest)\n",
    "dfMidWest = dfMidWest.reshape(-1)\n",
    "\n",
    "#boxplot is plotted with each parameter\n",
    "boxplot = ax.boxplot([dfNorthEast, dfMidWest, dfSouth, dfWest], widths = [.25,.25,.25,.25])\n",
    "ax.set_title('Unemployment By Region', fontsize=18)\n",
    "ax.set_ylabel(\"Unemployment Percentage\", fontsize=16)\n",
    "ax.set_xlabel(\"Region\", fontsize=16)\n",
    "ax.grid(alpha=.45);\n",
    "plt.xticks([1,2,3,4],[\"Northeast\", \"Midwest\",\"South\",\"West\"], fontsize=12)"
   ]
  },
  {
   "cell_type": "markdown",
   "metadata": {},
   "source": [
    "**Part F:** Create a new data frame with 12 columns that groups all of the data according to month of the year.  You can combine all the locations into a single column for each month.  \n",
    "\n",
    "(*Hint*: Every 12th data column should be from the same month.)\n",
    "\n",
    "Then create a single figure with a series of box plots (12 side-by-side boxes) of the employment data grouped by each month.\n"
   ]
  },
  {
   "cell_type": "code",
   "execution_count": 12,
   "metadata": {},
   "outputs": [
    {
     "data": {
      "text/plain": [
       "([<matplotlib.axis.XTick at 0x7f21f17d3e50>,\n",
       "  <matplotlib.axis.XTick at 0x7f21f17d3e20>,\n",
       "  <matplotlib.axis.XTick at 0x7f21f17bab20>,\n",
       "  <matplotlib.axis.XTick at 0x7f21f160d550>,\n",
       "  <matplotlib.axis.XTick at 0x7f21f160dca0>,\n",
       "  <matplotlib.axis.XTick at 0x7f21f160d1f0>,\n",
       "  <matplotlib.axis.XTick at 0x7f21f16125e0>,\n",
       "  <matplotlib.axis.XTick at 0x7f21f1612d30>,\n",
       "  <matplotlib.axis.XTick at 0x7f21f16174c0>,\n",
       "  <matplotlib.axis.XTick at 0x7f21f1617c10>,\n",
       "  <matplotlib.axis.XTick at 0x7f21f161e3a0>,\n",
       "  <matplotlib.axis.XTick at 0x7f21f1617ac0>],\n",
       " [Text(1, 0, 'Jan'),\n",
       "  Text(2, 0, 'Feb'),\n",
       "  Text(3, 0, 'Mar'),\n",
       "  Text(4, 0, 'Apr'),\n",
       "  Text(5, 0, 'May'),\n",
       "  Text(6, 0, 'Jun'),\n",
       "  Text(7, 0, 'Jul'),\n",
       "  Text(8, 0, 'Aug'),\n",
       "  Text(9, 0, 'Sep'),\n",
       "  Text(10, 0, 'Oct'),\n",
       "  Text(11, 0, 'Nov'),\n",
       "  Text(12, 0, 'Dec')])"
      ]
     },
     "execution_count": 12,
     "metadata": {},
     "output_type": "execute_result"
    },
    {
     "data": {
      "image/png": "[encoded data removed]",
      "text/plain": [
       "<Figure size 1080x576 with 1 Axes>"
      ]
     },
     "metadata": {
      "needs_background": "light"
     },
     "output_type": "display_data"
    }
   ],
   "source": [
    "fig, ax = plt.subplots(1,1,figsize=(15,8))\n",
    "#new dataframe is made with only columns from that month. it is then turned into an array and reshaped\n",
    "dfJan = df[['11-Jan','12-Jan','13-Jan','14-Jan','15-Jan','16-Jan','17-Jan','18-Jan','19-Jan','20-Jan',]]\n",
    "dfJan = np.array(dfJan)\n",
    "dfJan = dfJan.reshape(-1)\n",
    "\n",
    "#new dataframe is made with only columns from that month. it is then turned into an array and reshaped\n",
    "dfFeb = df[['11-Feb','12-Feb','13-Feb','14-Feb','15-Feb','16-Feb','17-Feb','18-Feb','19-Feb','20-Feb',]]\n",
    "dfFeb = np.array(dfFeb)\n",
    "dfFeb= dfFeb.reshape(-1)\n",
    "\n",
    "#new dataframe is made with only columns from that month. it is then turned into an array and reshaped\n",
    "dfMar = df[['11-Mar','12-Mar','13-Mar','14-Mar','15-Mar','16-Mar','17-Mar','18-Mar','19-Mar','20-Mar',]]\n",
    "dfMar = np.array(dfMar)\n",
    "dfMar = dfMar.reshape(-1)\n",
    "\n",
    "#new dataframe is made with only columns from that month. it is then turned into an array and reshaped\n",
    "dfApr = df[['11-Apr','12-Apr','13-Apr','14-Apr','15-Apr','16-Apr','17-Apr','18-Apr','19-Apr','20-Apr',]]\n",
    "dfApr = np.array(dfApr)\n",
    "dfApr= dfApr.reshape(-1)\n",
    "\n",
    "#new dataframe is made with only columns from that month. it is then turned into an array and reshaped\n",
    "dfMay = df[['11-May','12-May','13-May','14-May','15-May','16-May','17-May','18-May','19-May','20-May',]]\n",
    "dfMay = np.array(dfMay)\n",
    "dfMay = dfMay.reshape(-1)\n",
    "\n",
    "#new dataframe is made with only columns from that month. it is then turned into an array and reshaped\n",
    "dfJun = df[['11-Jun','12-Jun','13-Jun','14-Jun','15-Jun','16-Jun','17-Jun','18-Jun','19-Jun','20-Jun',]]\n",
    "dfJun = np.array(dfJun)\n",
    "dfJun= dfJun.reshape(-1)\n",
    "\n",
    "#new dataframe is made with only columns from that month. it is then turned into an array and reshaped\n",
    "dfJul = df[['11-Jul','12-Jul','13-Jul','14-Jul','15-Jul','16-Jul','17-Jul','18-Jul','19-Jul','20-Jul',]]\n",
    "dfJul = np.array(dfJul)\n",
    "dfJul = dfJul.reshape(-1)\n",
    "\n",
    "#new dataframe is made with only columns from that month. it is then turned into an array and reshaped\n",
    "dfAug = df[['11-Aug','12-Aug','13-Aug','14-Aug','15-Aug','16-Aug','17-Aug','18-Aug','19-Aug','20-Aug',]]\n",
    "dfAug = np.array(dfAug)\n",
    "dfAug= dfAug.reshape(-1)\n",
    "\n",
    "#new dataframe is made with only columns from that month. it is then turned into an array and reshaped\n",
    "dfSep = df[['11-Sep','12-Sep','13-Sep','14-Sep','15-Sep','16-Sep','17-Sep','18-Sep','19-Sep','20-Sep',]]\n",
    "dfSep = np.array(dfSep)\n",
    "dfSep = dfSep.reshape(-1)\n",
    "\n",
    "#new dataframe is made with only columns from that month. it is then turned into an array and reshaped\n",
    "dfOct = df[['11-Oct','12-Oct','13-Oct','14-Oct','15-Oct','16-Oct','17-Oct','18-Oct','19-Oct','20-Oct',]]\n",
    "dfOct = np.array(dfOct)\n",
    "dfOct= dfOct.reshape(-1)\n",
    "\n",
    "#new dataframe is made with only columns from that month. it is then turned into an array and reshaped\n",
    "dfNov = df[['11-Nov','12-Nov','13-Nov','14-Nov','15-Nov','16-Nov','17-Nov','18-Nov','19-Nov','20-Nov',]]\n",
    "dfNov = np.array(dfNov)\n",
    "dfNov = dfNov.reshape(-1)\n",
    "\n",
    "#new dataframe is made with only columns from that month. it is then turned into an array and reshaped\n",
    "dfDec = df[['11-Dec','12-Dec','13-Dec','14-Dec','15-Dec','16-Dec','17-Dec','18-Dec','19-Dec','20-Dec',]]\n",
    "dfDec = np.array(dfDec)\n",
    "dfDec= dfDec.reshape(-1)\n",
    "\n",
    "#dataframes are plotted onto a single plot\n",
    "bp = ax.boxplot([dfJan,dfFeb,dfMar,dfApr,dfMay,dfJun,dfJul,dfAug,dfSep,dfOct,dfNov,dfDec])\n",
    "\n",
    "ax.set_title('Unemployment By Month', fontsize=18)\n",
    "ax.set_ylabel(\"Unemployment Percentage\", fontsize=16)\n",
    "ax.set_xlabel(\"Month\", fontsize=16)\n",
    "ax.grid(alpha=.45);\n",
    "plt.xticks([1,2,3,4,5,6,7,8,9,10,11,12],[\"Jan\", \"Feb\",\"Mar\",\"Apr\",\"May\",\"Jun\",\"Jul\",\"Aug\", \"Sep\", \"Oct\", \"Nov\", \"Dec\"], fontsize=12)"
   ]
  },
  {
   "cell_type": "markdown",
   "metadata": {},
   "source": [
    "**Part G:** Discuss the following:\n",
    "\n",
    "1) Does there appear to be larger differences between different *regions* or between different *months*?  Explain fully.  Speculate as to *why* one factor might matter more than the other.\n",
    "\n",
    "2) Are there any downsides to these kinds of groupings?  Can you think of anything that might make these types of comparisons more useful?\n"
   ]
  },
  {
   "cell_type": "markdown",
   "metadata": {},
   "source": [
    "**2G Solution:**\n",
    "\n",
    "1) The unemployment rate between regions does not appear to differ that much. The west has a few outliers that skew the graph, but for the most part, the means, quartiles and mins/maxes of the regions are roughly equal. This is likely due to most of the country experiencing equal levels of unemployment, with no state getting left behind. As for the months, the most notable difference are the outliers in April and May. This is likely attributed to the COVID-19 Pandemic when many people were layed off work. Otherwise, there is little difference overall between months, the means, quartiles and min/maxes are roughly equal. \n",
    "\n",
    "2) The downside to this kind of data is that major events like the pandemic layoff are presented as outliers. In reality, these were major events that have a significant impact on the data, and shouldn't be labeled as an outlier. These comparisons might better be displayed as a histogram, where clustered data can be visualized more clearly.\n"
   ]
  },
  {
   "cell_type": "code",
   "execution_count": null,
   "metadata": {},
   "outputs": [],
   "source": []
  }
 ],
 "metadata": {
  "kernelspec": {
   "display_name": "Python 3 (ipykernel)",
   "language": "python",
   "name": "python3"
  },
  "language_info": {
   "codemirror_mode": {
    "name": "ipython",
    "version": 3
   },
   "file_extension": ".py",
   "mimetype": "text/x-python",
   "name": "python",
   "nbconvert_exporter": "python",
   "pygments_lexer": "ipython3",
   "version": "3.10.8"
  }
 },
 "nbformat": 4,
 "nbformat_minor": 4
}
