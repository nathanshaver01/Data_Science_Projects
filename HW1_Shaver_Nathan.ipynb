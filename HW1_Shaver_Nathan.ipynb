{
 "cells": [
  {
   "cell_type": "markdown",
   "metadata": {},
   "source": [
    "<a id='top'></a>\n",
    "\n",
    "# CSCI3022 F21\n",
    "# Homework 1: Measures of Centrality and Dispersion\n",
    "***\n",
    "\n",
    "**Name**: Nathan Shaver\n",
    "\n",
    "***\n",
    "\n",
    "This assignment is due on Canvas by **MIDNIGHT on Tuesday, September 7**. (NB: most HW will be due on Mondays, but due to Labor Day this is one day later).  Your solutions to theoretical questions should be done in Markdown directly below the associated question.  Your solutions to computational questions should include any specified Python code and results as well as written commentary on your conclusions.  Remember that you are encouraged to discuss the problems with your classmates, but **you must write all code and solutions on your own**.\n",
    "\n",
    "**NOTES**: \n",
    "\n",
    "- Any relevant data sets should be available on Canvas. To make life easier on the graders if they need to run your code, do not change the relative path names here. Instead, move the files around on your computer.\n",
    "- If you're not familiar with typesetting math directly into Markdown then by all means, do your work on paper first and then typeset it later.  Here is a [reference guide](https://math.meta.stackexchange.com/questions/5020/mathjax-basic-tutorial-and-quick-reference) linked on Canvas on writing math in Markdown. **All** of your written commentary, justifications and mathematical work should be in Markdown.  I also recommend the [wikibook](https://en.wikibooks.org/wiki/LaTeX) for LaTex.\n",
    "- Because you can technically evaluate notebook cells is a non-linear order, it's a good idea to do **Kernel $\\rightarrow$ Restart & Run All** as a check before submitting your solutions.  That way if we need to run your code you will know that it will work as expected. \n",
    "- It is **bad form** to make your reader interpret numerical output from your code.  If a question asks you to compute some value from the data you should show your code output **AND** write a summary of the results in Markdown directly below your code. \n",
    "- 45 points of this assignment are in problems.  The remaining 5 are for neatness, style, and overall exposition of both code and text.\n",
    "- This probably goes without saying, but... For any question that asks you to calculate something, you **must show all work and justify your answers to receive credit**. Sparse or nonexistent work will receive sparse or nonexistent credit. \n",
    "\n",
    "---\n",
    "**Shortcuts:**  [Problem 1](#p1) | [Problem 2](#p2) | [Problem 3](#p3) |\n",
    "---"
   ]
  },
  {
   "cell_type": "code",
   "execution_count": 1,
   "metadata": {},
   "outputs": [],
   "source": [
    "import numpy as np\n",
    "import pandas as pd\n",
    "import matplotlib.pylab as plt\n",
    "import math\n",
    "%matplotlib inline"
   ]
  },
  {
   "cell_type": "markdown",
   "metadata": {},
   "source": [
    "[Back to top](#top)\n",
    "<a/ id='p1'></a>\n",
    "\n",
    "## (10 pts) Problem 1:Theory (The Minimal Median)\n",
    "***\n",
    "\n",
    "One way we conceptualize many data science questions is asking for the \"best choice\" of some parameter on data set.  We should be able to justify that our measures of centrality should in some way be the \"best\" ways to represent the data.\n",
    "\n",
    "\n",
    "In lecture, we may have discussed the following important property of the mean:\n",
    "\n",
    "\n",
    "The *sample mean* of data $X_1, X_2, \\dots X_n$ is the unique minimizer $c$ of the function $$f(c)=\\sum_{i=1}^n \\left(X_i-c \\right)^2. $$\n",
    "\n",
    "The proof of that claim is as follows:\n",
    "\n",
    "**Proof:**\n",
    "\n",
    "Differentiating yields\n",
    "$$f'(c)=\\frac{df}{dc}\\sum_{i=1}^n \\left(X_i-c \\right)^2 =\\sum_{i=1}^n-2(X_i-c).$$ \n",
    "\n",
    "Setting $f'(c)=0$ gives\n",
    "\n",
    "$$0=\\sum_{i=1}^n-2(X_i-c)$$\n",
    "$$=2nc-2\\sum_{i=1}^n X_i$$\n",
    "$$\\implies\\qquad  c=\\frac{\\sum_{i=1}^n X_i}{n}=\\bar{X}$$\n",
    "\n",
    "***\n",
    "\n",
    "### Your exercise:\n",
    "\n",
    "You are tasked with recreating a *similar* proof.  Prove the following:\n",
    "\n",
    "The *median* of data $X_1, X_2, \\dots X_n$ is the possibly non-unique minimizer $c$ of the function $$f(c)=\\sum_{i=1}^n |X_i-c| $$\n",
    "\n",
    "A few things to think about and **include in your solution**:\n",
    "\n",
    " - how do we differentiate the absolute value function?\n",
    " - what conditions might make the median non-unique in this case?  If it's nonunique, what possible values of $c$ still minimize the function $f$?  This about both how this process looks with different numbers of total points $n$ and if data values are possible identical/repeated."
   ]
  },
  {
   "cell_type": "markdown",
   "metadata": {},
   "source": [
    "**Typeset your response here**\n",
    "\n",
    "Expanding the sum results in this formula:\n",
    "\n",
    "$$\\frac{d}{dc}  (X_1-c)^2 + (X_2-c)^2 + (X_3 - c)^2 + ... + (X_n-c)^2 $$\n",
    "\n",
    "Since we are taking the derivative with respect to c, this formula is an upward opening parabola. This means that there is only one critical point, the vertex, which is the minimum due to it being an upward opening parabola. Taking the derivative to find that vertex results in this formula:\n",
    "\n",
    "$$\\sum_{i=1}^n -2(X_i-c)$$\n",
    "\n",
    "To calculate the vertex, we set this derivative equal to 0 and solve for c:\n",
    "\n",
    "$$0 = \\sum_{i = 1}^n -2(X_i-c)$$\n",
    "\n",
    "$$0 = \\sum_{i = 1}^n (X_i-c)$$\n",
    "\n",
    "$$0 = \\sum_{i = 1}^n X_i + \\sum_{i = 1}^n -c$$\n",
    "\n",
    "$$0 = \\sum_{i = 1}^n X_i -cn$$\n",
    "\n",
    "$$cn = \\sum_{i = 1}^n X_i$$\n",
    "\n",
    "$$c = \\frac{\\sum_{i = 1}^n X_i}{n}$$\n",
    "\n",
    "C is now equal to the minimum of the parabola of this function, which is equvilant to the unique minimizer, or the median."
   ]
  },
  {
   "cell_type": "markdown",
   "metadata": {
    "tags": []
   },
   "source": [
    "[Back to top](#top)\n",
    "<a/ id='p2'></a>\n",
    "\n",
    "## (15 pts) Problem 2: Theory and Computation (Scaling)\n",
    "***\n",
    "Consider the following 3 data sets:\n",
    "\n",
    "`A=[0,1,2,3,4,5,6,7,8,9,10,11,12,13,14,15]`\n",
    "\n",
    "`B=[112,0,0,12,7,18,0,25,0,13,0,35]`\n",
    "\n",
    "`C` is the random data set generated by using `np.random.gamma(5,1.5,size=37)`\n",
    "\n",
    "For each data set, perform the following operations:\n",
    "\n",
    "**Part A:** Compute and print the mean and standard deviation of the data set."
   ]
  },
  {
   "cell_type": "code",
   "execution_count": 2,
   "metadata": {},
   "outputs": [
    {
     "name": "stdout",
     "output_type": "stream",
     "text": [
      "The mean and standard deviation of A are: \n",
      "7.5 4.6097722286464435\n",
      "The mean and standard deviation of B are: \n",
      "18.5 30.2393231846658\n",
      "The mean and standard deviation of C are: \n",
      "7.664227451981055 2.945234448666062\n"
     ]
    }
   ],
   "source": [
    "#function that returns the mean of a list\n",
    "def mean(totalList, totalLength):\n",
    "    i = 0\n",
    "    totalMean = 0\n",
    "    totalSum = 0\n",
    "    while i < totalLength:\n",
    "        totalSum += totalList[i]\n",
    "        i = i + 1\n",
    "    totalMean = totalSum / totalLength\n",
    "    return(totalMean)\n",
    "\n",
    "#function that returns the standard deviation of a list\n",
    "def standardDev(totalList, totalMean, totalLength):\n",
    "    i = 0\n",
    "    finalSD = 0\n",
    "    newfinalSD = 0\n",
    "    sqrDis = 0\n",
    "    while i < totalLength:\n",
    "        sqrDis += (totalList[i] - totalMean) ** 2\n",
    "        i = i + 1\n",
    "    finalSD = sqrDis / totalLength\n",
    "    newfinalSD = finalSD ** .5 \n",
    "    return(newfinalSD)\n",
    "\n",
    "#the lists\n",
    "A=[0,1,2,3,4,5,6,7,8,9,10,11,12,13,14,15]\n",
    "B=[112,0,0,12,7,18,0,25,0,13,0,35]\n",
    "C=np.random.gamma(5,1.5,size=37)\n",
    "\n",
    "#getting the length of the lists\n",
    "lengthA = len(A)\n",
    "lengthB = len(B)\n",
    "lengthC = len(C)\n",
    "\n",
    "#storing the means of the lists\n",
    "meanA = mean(A, lengthA)\n",
    "meanB = mean(B, lengthB)\n",
    "meanC = mean(C, lengthC)\n",
    "\n",
    "#storing the standard deviations of the lists\n",
    "standDevA = standardDev(A, meanA, lengthA)\n",
    "standDevB = standardDev(B, meanB, lengthB)\n",
    "standDevC = standardDev(C, meanC, lengthC)\n",
    "\n",
    "#printing out the final statements\n",
    "print(\"The mean and standard deviation of A are: \")\n",
    "print(meanA, standDevA)\n",
    "print(\"The mean and standard deviation of B are: \",)\n",
    "print(meanB, standDevB)\n",
    "print(\"The mean and standard deviation of C are: \")\n",
    "print(meanC, standDevC)"
   ]
  },
  {
   "cell_type": "markdown",
   "metadata": {},
   "source": [
    "**Part B:** Plot frequency histograms of each data set, with the 3 plots stacked vertically (one on top of the other)."
   ]
  },
  {
   "cell_type": "code",
   "execution_count": 3,
   "metadata": {},
   "outputs": [
    {
     "data": {
      "text/plain": [
       "Text(0, 0.5, 'Quantity')"
      ]
     },
     "execution_count": 3,
     "metadata": {},
     "output_type": "execute_result"
    },
    {
     "data": {
      "image/png": "[encoded data removed]",
      "text/plain": [
       "<Figure size 432x288 with 1 Axes>"
      ]
     },
     "metadata": {
      "needs_background": "light"
     },
     "output_type": "display_data"
    },
    {
     "data": {
      "image/png": "[encoded data removed]",
      "text/plain": [
       "<Figure size 432x288 with 1 Axes>"
      ]
     },
     "metadata": {
      "needs_background": "light"
     },
     "output_type": "display_data"
    },
    {
     "data": {
      "image/png": "[encoded data removed]",
      "text/plain": [
       "<Figure size 432x288 with 1 Axes>"
      ]
     },
     "metadata": {
      "needs_background": "light"
     },
     "output_type": "display_data"
    }
   ],
   "source": [
    "#histogram of list A\n",
    "fig, ax = plt.subplots(1,1)\n",
    "ax.hist(A, bins = 16)\n",
    "ax.set_title(\"Quantity of Numbers of set A\")\n",
    "ax.set_xlabel(\"Numbers\")\n",
    "ax.set_ylabel(\"Quantity\")\n",
    "\n",
    "#histogram of list B\n",
    "fig, ax = plt.subplots(1,1)\n",
    "ax.hist(B, bins = 16)\n",
    "ax.set_title(\"Quantity of Numbers of set B\")\n",
    "ax.set_xlabel(\"Numbers\")\n",
    "ax.set_ylabel(\"Quantity\")\n",
    "\n",
    "#histogram of list C\n",
    "fig, ax = plt.subplots(1,1)\n",
    "ax.hist(C, bins = 16)\n",
    "ax.set_title(\"Quantity of Numbers of set C\")\n",
    "ax.set_xlabel(\"Numbers\")\n",
    "ax.set_ylabel(\"Quantity\")\n"
   ]
  },
  {
   "cell_type": "markdown",
   "metadata": {},
   "source": [
    "**Part C:** Form 3 new data sets, $A^*$, $B^*$, and $C^*$.  Create each by subtracting the original means of A, B, and C from each observation in that data set. Compute and print the means and standard deviations of the new data sets."
   ]
  },
  {
   "cell_type": "code",
   "execution_count": 4,
   "metadata": {},
   "outputs": [
    {
     "name": "stdout",
     "output_type": "stream",
     "text": [
      "The mean and standard deviation of A* are: \n",
      "0.0 4.6097722286464435\n",
      "The mean and standard deviation of B* are: \n",
      "0.0 30.2393231846658\n",
      "The mean and standard deviation of C* are: \n",
      "-1.4162845070893888e-15 2.9452344486660618\n"
     ]
    }
   ],
   "source": [
    "#function that subtracts the original mean of each index of the old list and stores in a new list\n",
    "def subMean(oldList, finalMean, totalLength):\n",
    "    i = 0\n",
    "    newList = []\n",
    "    while i < totalLength:\n",
    "        newList.append(oldList[i] - finalMean)\n",
    "        i = i + 1\n",
    "    return(newList)\n",
    "\n",
    "#function that returns the mean of a list\n",
    "def mean(totalList, totalLength):\n",
    "    i = 0\n",
    "    totalMean = 0\n",
    "    totalSum = 0\n",
    "    while i < totalLength:\n",
    "        totalSum += totalList[i]\n",
    "        i = i + 1\n",
    "    totalMean = totalSum / totalLength\n",
    "    return(totalMean)\n",
    "\n",
    "#function that returns the standard deviation of a list\n",
    "def standardDev(totalList, totalMean, totalLength):\n",
    "    i = 0\n",
    "    finalSD = 0\n",
    "    newfinalSD = 0\n",
    "    sqrDis = 0\n",
    "    while i < totalLength:\n",
    "        sqrDis += (totalList[i] - totalMean) ** 2\n",
    "        i = i + 1\n",
    "    finalSD = sqrDis / totalLength\n",
    "    newfinalSD = finalSD ** .5 \n",
    "    return(newfinalSD)\n",
    "\n",
    "#storing the old means\n",
    "meanA = mean(A, lengthA)\n",
    "meanB = mean(B, lengthB)\n",
    "meanC = mean(C, lengthC)\n",
    "\n",
    "#storing a new list where the old means are subtracted\n",
    "subMeanA = subMean(A, meanA, lengthA)\n",
    "subMeanB = subMean(B, meanB, lengthB)\n",
    "subMeanC = subMean(C, meanC, lengthC)\n",
    "\n",
    "#storing the new means\n",
    "newMeanA = mean(subMeanA, lengthA)\n",
    "newMeanB = mean(subMeanB, lengthB)\n",
    "newMeanC = mean(subMeanC, lengthC)\n",
    "\n",
    "#storing the new standard deviations\n",
    "newStandDevA = standardDev(subMeanA, newMeanA, lengthA)\n",
    "newStandDevB = standardDev(subMeanB, newMeanB, lengthB)\n",
    "newStandDevC = standardDev(subMeanC, newMeanC, lengthC)\n",
    "\n",
    "#printing out the final statements\n",
    "print(\"The mean and standard deviation of A* are: \")\n",
    "print(newMeanA, newStandDevA)\n",
    "print(\"The mean and standard deviation of B* are: \")\n",
    "print(newMeanB, newStandDevB)\n",
    "print(\"The mean and standard deviation of C* are: \")\n",
    "print(newMeanC, newStandDevC)"
   ]
  },
  {
   "cell_type": "markdown",
   "metadata": {},
   "source": [
    "**Part D:** Form 3 new data sets, $\\tilde{A}$, $\\tilde{B}$, and $\\tilde{C}$.  Create each by subtracting the original means of A, B, and C from each observation in that data set and then dividing by the original standard deviation.  Compute and print the means and standard deviations of the new data sets."
   ]
  },
  {
   "cell_type": "code",
   "execution_count": 5,
   "metadata": {},
   "outputs": [
    {
     "name": "stdout",
     "output_type": "stream",
     "text": [
      "The mean and standard deviation of A* are: \n",
      "4.163336342344337e-17 1.0\n",
      "The mean and standard deviation of B* are: \n",
      "-9.25185853854297e-18 1.0000000000000002\n",
      "The mean and standard deviation of C* are: \n",
      "-5.071018680044634e-16 0.9999999999999999\n"
     ]
    }
   ],
   "source": [
    "#function that subtracts the original mean and divides by the original standard deviation and returns in a new list\n",
    "def subMeanSD(oldList, finalMean, totalLength, origSD):\n",
    "    i = 0\n",
    "    newList = []\n",
    "    while i < totalLength:\n",
    "        newList.append((oldList[i] - finalMean)/origSD)\n",
    "        i = i + 1\n",
    "    return(newList)\n",
    "\n",
    "#function that calculates the mean of a list\n",
    "def mean(totalList, totalLength):\n",
    "    i = 0\n",
    "    totalMean = 0\n",
    "    totalSum = 0\n",
    "    while i < totalLength:\n",
    "        totalSum += totalList[i]\n",
    "        i = i + 1\n",
    "    totalMean = totalSum / totalLength\n",
    "    return(totalMean)\n",
    "\n",
    "#function that calculates the standard deviation of a list\n",
    "def standardDev(totalList, totalMean, totalLength):\n",
    "    i = 0\n",
    "    finalSD = 0\n",
    "    newfinalSD = 0\n",
    "    sqrDis = 0\n",
    "    while i < totalLength:\n",
    "        sqrDis += (totalList[i] - totalMean) ** 2\n",
    "        i = i + 1\n",
    "    finalSD = sqrDis / totalLength\n",
    "    newfinalSD = finalSD ** .5 \n",
    "    return(newfinalSD)\n",
    "\n",
    "#storing the old means\n",
    "meanA = mean(A, lengthA)\n",
    "meanB = mean(B, lengthB)\n",
    "meanC = mean(C, lengthC)\n",
    "\n",
    "#storing the old standard deviations\n",
    "standDevA = standardDev(A, meanA, lengthA)\n",
    "standDevB = standardDev(B, meanB, lengthB)\n",
    "standDevC = standardDev(C, meanC, lengthC)\n",
    "\n",
    "#storing the new list with subtracted means and divided standard deviations\n",
    "subMeanA = subMeanSD(A, meanA, lengthA, standDevA)\n",
    "subMeanB = subMeanSD(B, meanB, lengthB, standDevB)\n",
    "subMeanC = subMeanSD(C, meanC, lengthC, standDevC)\n",
    "\n",
    "#storing the new means\n",
    "newMeanA = mean(subMeanA, lengthA)\n",
    "newMeanB = mean(subMeanB, lengthB)\n",
    "newMeanC = mean(subMeanC, lengthC)\n",
    "\n",
    "#storing the new standard deviation\n",
    "newStandDevA = standardDev(subMeanA, newMeanA, lengthA)\n",
    "newStandDevB = standardDev(subMeanB, newMeanB, lengthB)\n",
    "newStandDevC = standardDev(subMeanC, newMeanC, lengthC)\n",
    "\n",
    "#final print statements\n",
    "print(\"The mean and standard deviation of A* are: \")\n",
    "print(newMeanA, newStandDevA)\n",
    "print(\"The mean and standard deviation of B* are: \")\n",
    "print(newMeanB, newStandDevB)\n",
    "print(\"The mean and standard deviation of C* are: \")\n",
    "print(newMeanC, newStandDevC)"
   ]
  },
  {
   "cell_type": "markdown",
   "metadata": {},
   "source": [
    "**Part E:** Plot density histograms of each $\\tilde{A}$, $\\tilde{B}$, and $\\tilde{C}$, with the 3 plots stacked vertically (one on top of the other).  Ensure that each plot has the same horizontal axis.  "
   ]
  },
  {
   "cell_type": "code",
   "execution_count": 6,
   "metadata": {},
   "outputs": [
    {
     "data": {
      "text/plain": [
       "Text(0, 0.5, 'Density')"
      ]
     },
     "execution_count": 6,
     "metadata": {},
     "output_type": "execute_result"
    },
    {
     "data": {
      "image/png": "[encoded data removed]",
      "text/plain": [
       "<Figure size 432x288 with 1 Axes>"
      ]
     },
     "metadata": {
      "needs_background": "light"
     },
     "output_type": "display_data"
    },
    {
     "data": {
      "image/png": "[encoded data removed]",
      "text/plain": [
       "<Figure size 432x288 with 1 Axes>"
      ]
     },
     "metadata": {
      "needs_background": "light"
     },
     "output_type": "display_data"
    },
    {
     "data": {
      "image/png": "[encoded data removed]",
      "text/plain": [
       "<Figure size 432x288 with 1 Axes>"
      ]
     },
     "metadata": {
      "needs_background": "light"
     },
     "output_type": "display_data"
    }
   ],
   "source": [
    "import matplotlib.pyplot as plt\n",
    "\n",
    "#density histogram of A tilda\n",
    "fig, ax = plt.subplots(1,1)\n",
    "ax.hist(subMeanA, bins = 16, density = True)\n",
    "ax.set_title(\"Quantity of Numbers of set A tilda\")\n",
    "ax.set_xlabel(\"Numbers\")\n",
    "ax.set_ylabel(\"Density\")\n",
    "\n",
    "#density histogram of B tilda\n",
    "fig, ax = plt.subplots(1,1)\n",
    "ax.hist(subMeanB, bins = 16, density = True)\n",
    "ax.set_title(\"Quantity of Numbers of set B tilda\")\n",
    "ax.set_xlabel(\"Numbers\")\n",
    "ax.set_ylabel(\"Density\")\n",
    "\n",
    "#density histogram of C tilda\n",
    "fig, ax = plt.subplots(1,1)\n",
    "ax.hist(subMeanC, bins = 16, density = True)\n",
    "ax.set_title(\"Quantity of Numbers of set C tilda\")\n",
    "ax.set_xlabel(\"Numbers\")\n",
    "ax.set_ylabel(\"Density\")\n"
   ]
  },
  {
   "cell_type": "markdown",
   "metadata": {},
   "source": [
    "**Part F:** Why might the result in part D matter?"
   ]
  },
  {
   "cell_type": "markdown",
   "metadata": {},
   "source": [
    "All sets, A*, B* and C* have means of 0 and standard deviations of 1. This proves that no matter the set, every single data point is one mean away from the standard deviation. This menas that the graph follows a standard bell curve and has a normal distribution. "
   ]
  },
  {
   "cell_type": "markdown",
   "metadata": {},
   "source": [
    "**Part G:** Looking at each of the 3 original data sets, come up with a real-world context where those numbers might make for reasonable observations."
   ]
  },
  {
   "cell_type": "markdown",
   "metadata": {},
   "source": [
    "A real world context for these lists and histograms could be the number of times 3 groups of employees come in to the office to work during the month of March. These numbers all range between 0 and 35, which makes sense as some employees might come in twice in a day. The except is the 112 in data set B, which is an outlier and can be attributed to a mistake in documentation. "
   ]
  },
  {
   "cell_type": "markdown",
   "metadata": {},
   "source": [
    "[Back to top](#top)\n",
    "<a/ id='p3'></a>\n",
    "\n",
    "## (20 pts) Problem 3: Practice (Titanic)\n",
    "*** \n",
    "The sinking of the RMS Titanic was a terrible tragedy that saw the loss of many lives. Even within this tragedy, thanks to the combinations of the records of the White Star Line and the thorough nature of follow-up research after the accident we have some records that can help us try to piece together the course of events on board the ship. Many of the historians and other researchers who have investigated this event have speculated as to what exactly happened.\n",
    "\n",
    "We have the data on survival rates by class, gender, and age, so let's figure out whether there is evidence for some of these scenarios. Access the Titanic data in `titanic_data.csv` and store it in a Pandas DataFrame. The data contains information pertaining to class status (**Pclass**), survival (**Survived**), and gender (**Sex**) of passengers, among other things. Be sure to use the `titanic_data.csv` data set, *not* the `clean_titanic_data` file or `dirty_titanic_data` file from the in-class notebook exercises."
   ]
  },
  {
   "cell_type": "code",
   "execution_count": 7,
   "metadata": {},
   "outputs": [
    {
     "data": {
      "text/html": [
       "<div>\n",
       "<style scoped>\n",
       "    .dataframe tbody tr th:only-of-type {\n",
       "        vertical-align: middle;\n",
       "    }\n",
       "\n",
       "    .dataframe tbody tr th {\n",
       "        vertical-align: top;\n",
       "    }\n",
       "\n",
       "    .dataframe thead th {\n",
       "        text-align: right;\n",
       "    }\n",
       "</style>\n",
       "<table border=\"1\" class=\"dataframe\">\n",
       "  <thead>\n",
       "    <tr style=\"text-align: right;\">\n",
       "      <th></th>\n",
       "      <th>PassengerId</th>\n",
       "      <th>Survived</th>\n",
       "      <th>Pclass</th>\n",
       "      <th>Name</th>\n",
       "      <th>Sex</th>\n",
       "      <th>Age</th>\n",
       "      <th>SibSp</th>\n",
       "      <th>Parch</th>\n",
       "      <th>Ticket</th>\n",
       "      <th>Fare</th>\n",
       "      <th>Cabin</th>\n",
       "      <th>Embarked</th>\n",
       "    </tr>\n",
       "  </thead>\n",
       "  <tbody>\n",
       "    <tr>\n",
       "      <th>0</th>\n",
       "      <td>1</td>\n",
       "      <td>0</td>\n",
       "      <td>3</td>\n",
       "      <td>Braund, Mr. Owen Harris</td>\n",
       "      <td>male</td>\n",
       "      <td>36.0</td>\n",
       "      <td>1</td>\n",
       "      <td>0</td>\n",
       "      <td>A/5 21171</td>\n",
       "      <td>7.2500</td>\n",
       "      <td>NaN</td>\n",
       "      <td>S</td>\n",
       "    </tr>\n",
       "    <tr>\n",
       "      <th>1</th>\n",
       "      <td>2</td>\n",
       "      <td>1</td>\n",
       "      <td>1</td>\n",
       "      <td>Cumings, Mrs. John Bradley (Florence Briggs Th...</td>\n",
       "      <td>female</td>\n",
       "      <td>18.0</td>\n",
       "      <td>1</td>\n",
       "      <td>0</td>\n",
       "      <td>PC 17599</td>\n",
       "      <td>71.2833</td>\n",
       "      <td>C85</td>\n",
       "      <td>C</td>\n",
       "    </tr>\n",
       "    <tr>\n",
       "      <th>2</th>\n",
       "      <td>3</td>\n",
       "      <td>1</td>\n",
       "      <td>3</td>\n",
       "      <td>Heikkinen, Miss. Laina</td>\n",
       "      <td>female</td>\n",
       "      <td>14.0</td>\n",
       "      <td>0</td>\n",
       "      <td>0</td>\n",
       "      <td>STON/O2. 3101282</td>\n",
       "      <td>7.9250</td>\n",
       "      <td>NaN</td>\n",
       "      <td>S</td>\n",
       "    </tr>\n",
       "    <tr>\n",
       "      <th>3</th>\n",
       "      <td>4</td>\n",
       "      <td>1</td>\n",
       "      <td>1</td>\n",
       "      <td>Futrelle, Mrs. Jacques Heath (Lily May Peel)</td>\n",
       "      <td>female</td>\n",
       "      <td>27.0</td>\n",
       "      <td>1</td>\n",
       "      <td>0</td>\n",
       "      <td>113803</td>\n",
       "      <td>53.1000</td>\n",
       "      <td>C123</td>\n",
       "      <td>S</td>\n",
       "    </tr>\n",
       "    <tr>\n",
       "      <th>4</th>\n",
       "      <td>5</td>\n",
       "      <td>0</td>\n",
       "      <td>3</td>\n",
       "      <td>Allen, Mr. William Henry</td>\n",
       "      <td>male</td>\n",
       "      <td>63.0</td>\n",
       "      <td>0</td>\n",
       "      <td>0</td>\n",
       "      <td>373450</td>\n",
       "      <td>8.0500</td>\n",
       "      <td>NaN</td>\n",
       "      <td>S</td>\n",
       "    </tr>\n",
       "  </tbody>\n",
       "</table>\n",
       "</div>"
      ],
      "text/plain": [
       "   PassengerId  Survived  Pclass  \\\n",
       "0            1         0       3   \n",
       "1            2         1       1   \n",
       "2            3         1       3   \n",
       "3            4         1       1   \n",
       "4            5         0       3   \n",
       "\n",
       "                                                Name     Sex   Age  SibSp  \\\n",
       "0                            Braund, Mr. Owen Harris    male  36.0      1   \n",
       "1  Cumings, Mrs. John Bradley (Florence Briggs Th...  female  18.0      1   \n",
       "2                             Heikkinen, Miss. Laina  female  14.0      0   \n",
       "3       Futrelle, Mrs. Jacques Heath (Lily May Peel)  female  27.0      1   \n",
       "4                           Allen, Mr. William Henry    male  63.0      0   \n",
       "\n",
       "   Parch            Ticket     Fare Cabin Embarked  \n",
       "0      0         A/5 21171   7.2500   NaN        S  \n",
       "1      0          PC 17599  71.2833   C85        C  \n",
       "2      0  STON/O2. 3101282   7.9250   NaN        S  \n",
       "3      0            113803  53.1000  C123        S  \n",
       "4      0            373450   8.0500   NaN        S  "
      ]
     },
     "execution_count": 7,
     "metadata": {},
     "output_type": "execute_result"
    }
   ],
   "source": [
    "filepath = '/home/jovyan/3022/hw/hw1/titanic_data.csv'\n",
    "df = pd.read_csv(filepath)\n",
    "\n",
    "#testing to see if file path works\n",
    "df.head()"
   ]
  },
  {
   "cell_type": "markdown",
   "metadata": {},
   "source": [
    "**Part A**:\n",
    "Based on the overall population of passengers, report the proportion that survived.\n",
    "\n",
    "$$P(Survived=1)$$"
   ]
  },
  {
   "cell_type": "code",
   "execution_count": 8,
   "metadata": {},
   "outputs": [
    {
     "name": "stdout",
     "output_type": "stream",
     "text": [
      "Out of a total of 891 passengers, 350 passengers or 0.39281705948372614 percent survived\n"
     ]
    }
   ],
   "source": [
    "people_survived = df[\"Survived\"].sum()\n",
    "length = len(df)\n",
    "people_survived_proportion = people_survived / length\n",
    "print(\"Out of a total of\", length, \"passengers,\", people_survived, \"passengers or\", people_survived_proportion, \"percent survived\")"
   ]
  },
  {
   "cell_type": "markdown",
   "metadata": {},
   "source": [
    "**Part B**: \n",
    "Some claim that the final hours aboard the RMS Titanic were marked by \"class warfare\" in which the people with first-class tickets took all the good spots on the lifeboats; others claim that the final hours were characterized by male chivalry, in which the men valiantly gave up their positions in the boats and succumbed bravely to the depths of the Atlantic. \n",
    "\n",
    "Consider the two claims: class warfare, and male chivalry. Suppose that class warfare occurred in the final hours aboard the Titanic.  What patterns might you expect to see in the data?  Suppose that male chivalry was widespread during the final hours instead. What patterns might you then expect to see in the data?  Explain both of these hypothesized patterns in words. Are these two hypotheses mutually exclusive or not?\n"
   ]
  },
  {
   "cell_type": "markdown",
   "metadata": {},
   "source": [
    "**Part B Answer:**\n",
    "\n",
    "Let's say the data is presented in a density histogram, with each histogram bar representing 1st class, 2nd class, etc. The y axis is the percentage of passengers that survived by class, with 1.0 being the maximum. If class warfare occured on the titanic, the data would have a left skew towards the higher class passengers, because more of them would have survived. A similar density histogram of men and women who survived would have a female skew if male chivalry occured. These two patterns are not mutually exclusive since there are many male first class passengers on the passenger list\n",
    "\n"
   ]
  },
  {
   "cell_type": "markdown",
   "metadata": {},
   "source": [
    "**Part C**: Use Pandas methods to create a clean data set by removing any rows from the DataFrame that are missing values corresponding to **Survived**, **Pclass**, **Age**, or **Sex**. Store the clean data in a DataFrame called dfTitanic. Be sure to show any exploratory work determining if/where there are rows with missing values. _HINT: There should be 714 rows in your cleaned data set._"
   ]
  },
  {
   "cell_type": "code",
   "execution_count": 9,
   "metadata": {},
   "outputs": [
    {
     "data": {
      "text/html": [
       "<div>\n",
       "<style scoped>\n",
       "    .dataframe tbody tr th:only-of-type {\n",
       "        vertical-align: middle;\n",
       "    }\n",
       "\n",
       "    .dataframe tbody tr th {\n",
       "        vertical-align: top;\n",
       "    }\n",
       "\n",
       "    .dataframe thead th {\n",
       "        text-align: right;\n",
       "    }\n",
       "</style>\n",
       "<table border=\"1\" class=\"dataframe\">\n",
       "  <thead>\n",
       "    <tr style=\"text-align: right;\">\n",
       "      <th></th>\n",
       "      <th>PassengerId</th>\n",
       "      <th>Survived</th>\n",
       "      <th>Pclass</th>\n",
       "      <th>Age</th>\n",
       "      <th>SibSp</th>\n",
       "      <th>Parch</th>\n",
       "      <th>Fare</th>\n",
       "    </tr>\n",
       "  </thead>\n",
       "  <tbody>\n",
       "    <tr>\n",
       "      <th>count</th>\n",
       "      <td>714.000000</td>\n",
       "      <td>714.000000</td>\n",
       "      <td>714.000000</td>\n",
       "      <td>714.000000</td>\n",
       "      <td>714.000000</td>\n",
       "      <td>714.000000</td>\n",
       "      <td>714.000000</td>\n",
       "    </tr>\n",
       "    <tr>\n",
       "      <th>mean</th>\n",
       "      <td>444.254902</td>\n",
       "      <td>0.390756</td>\n",
       "      <td>2.326331</td>\n",
       "      <td>29.699118</td>\n",
       "      <td>0.521008</td>\n",
       "      <td>0.380952</td>\n",
       "      <td>31.235882</td>\n",
       "    </tr>\n",
       "    <tr>\n",
       "      <th>std</th>\n",
       "      <td>256.841156</td>\n",
       "      <td>0.488262</td>\n",
       "      <td>0.831502</td>\n",
       "      <td>14.526497</td>\n",
       "      <td>1.104742</td>\n",
       "      <td>0.801805</td>\n",
       "      <td>48.602792</td>\n",
       "    </tr>\n",
       "    <tr>\n",
       "      <th>min</th>\n",
       "      <td>1.000000</td>\n",
       "      <td>0.000000</td>\n",
       "      <td>1.000000</td>\n",
       "      <td>0.420000</td>\n",
       "      <td>0.000000</td>\n",
       "      <td>0.000000</td>\n",
       "      <td>0.000000</td>\n",
       "    </tr>\n",
       "    <tr>\n",
       "      <th>25%</th>\n",
       "      <td>220.500000</td>\n",
       "      <td>0.000000</td>\n",
       "      <td>2.000000</td>\n",
       "      <td>20.125000</td>\n",
       "      <td>0.000000</td>\n",
       "      <td>0.000000</td>\n",
       "      <td>7.925000</td>\n",
       "    </tr>\n",
       "    <tr>\n",
       "      <th>50%</th>\n",
       "      <td>441.000000</td>\n",
       "      <td>0.000000</td>\n",
       "      <td>3.000000</td>\n",
       "      <td>28.000000</td>\n",
       "      <td>0.000000</td>\n",
       "      <td>0.000000</td>\n",
       "      <td>14.454200</td>\n",
       "    </tr>\n",
       "    <tr>\n",
       "      <th>75%</th>\n",
       "      <td>667.750000</td>\n",
       "      <td>1.000000</td>\n",
       "      <td>3.000000</td>\n",
       "      <td>38.000000</td>\n",
       "      <td>1.000000</td>\n",
       "      <td>0.000000</td>\n",
       "      <td>31.275000</td>\n",
       "    </tr>\n",
       "    <tr>\n",
       "      <th>max</th>\n",
       "      <td>889.000000</td>\n",
       "      <td>1.000000</td>\n",
       "      <td>3.000000</td>\n",
       "      <td>80.000000</td>\n",
       "      <td>8.000000</td>\n",
       "      <td>6.000000</td>\n",
       "      <td>512.329200</td>\n",
       "    </tr>\n",
       "  </tbody>\n",
       "</table>\n",
       "</div>"
      ],
      "text/plain": [
       "       PassengerId    Survived      Pclass         Age       SibSp  \\\n",
       "count   714.000000  714.000000  714.000000  714.000000  714.000000   \n",
       "mean    444.254902    0.390756    2.326331   29.699118    0.521008   \n",
       "std     256.841156    0.488262    0.831502   14.526497    1.104742   \n",
       "min       1.000000    0.000000    1.000000    0.420000    0.000000   \n",
       "25%     220.500000    0.000000    2.000000   20.125000    0.000000   \n",
       "50%     441.000000    0.000000    3.000000   28.000000    0.000000   \n",
       "75%     667.750000    1.000000    3.000000   38.000000    1.000000   \n",
       "max     889.000000    1.000000    3.000000   80.000000    8.000000   \n",
       "\n",
       "            Parch        Fare  \n",
       "count  714.000000  714.000000  \n",
       "mean     0.380952   31.235882  \n",
       "std      0.801805   48.602792  \n",
       "min      0.000000    0.000000  \n",
       "25%      0.000000    7.925000  \n",
       "50%      0.000000   14.454200  \n",
       "75%      0.000000   31.275000  \n",
       "max      6.000000  512.329200  "
      ]
     },
     "execution_count": 9,
     "metadata": {},
     "output_type": "execute_result"
    }
   ],
   "source": [
    "#removing any blank survived, pclass, sex and age cells\n",
    "dfTitanic = df.dropna(subset = ['Survived', 'Pclass', 'Sex', 'Age'])\n",
    "dfTitanic.describe()"
   ]
  },
  {
   "cell_type": "markdown",
   "metadata": {},
   "source": [
    "**Part D**: Compute the probability of survival of both men and women.  Then, compute the probability of survival of passengers in each of the 3 passenger classes.  Finally, compute the probabilities of survival and men and women *within* each passenger class (all 6 subsets).  Then, answer the following questions:\n",
    "* **(i)** When reviewing class survival probability, how do the results compare to the base survival probability results from **Part A**?\n",
    "* **(ii)** When reviewing gender survival probability, how do the results compare to the base survival probability results from **Part A**?\n",
    "* **(iii)** Within each passenger class, were men or women more/less/equally likely to survive?\n",
    "* **(iv)**  Did men in first class or women in third class have a higher survival probability?\n"
   ]
  },
  {
   "cell_type": "code",
   "execution_count": 10,
   "metadata": {},
   "outputs": [
    {
     "name": "stdout",
     "output_type": "stream",
     "text": [
      "The probability of survival for men was 0.19654427645788336\n",
      "The probability of survival for women was 0.749003984063745\n",
      "\n",
      "\n",
      "The probability of survival for 1st class passengers was 0.6428571428571429\n",
      "The probability of survival for 2nd class passengers was 0.4827586206896552\n",
      "The probability of survival for 3rd class passengers was 0.2518703241895262\n",
      "\n",
      "\n",
      "The probability of survival for male 1st class passengers was 0.21428571428571427\n",
      "The probability of survival for male 2nd class passengers was 0.1103448275862069\n",
      "The probability of survival for male 3rd class passengers was 0.09725685785536159\n",
      "The probability of survival for female 1st class passengers was 0.42857142857142855\n",
      "The probability of survival for female 2nd class passengers was 0.3724137931034483\n",
      "The probability of survival for female 3rd class passengers was 0.1546134663341646\n"
     ]
    }
   ],
   "source": [
    "#store the total number of male/female survivors\n",
    "maleSurv = np.sum(dfTitanic.loc[dfTitanic['Sex'] == 'male', 'Survived'])\n",
    "femaleSurv = np.sum(dfTitanic.loc[dfTitanic['Sex'] == 'female', 'Survived'])\n",
    "#store the total number of male/female passengers\n",
    "total_male = len(dfTitanic[dfTitanic['Sex'] == 'male'])\n",
    "total_female = len(dfTitanic[dfTitanic['Sex'] == 'female'])\n",
    "#store the probability of survivale for male/female\n",
    "probability_male = maleSurv / total_male\n",
    "probability_female = femaleSurv / total_female\n",
    "\n",
    "#final print statement\n",
    "print(\"The probability of survival for men was {}\".format(probability_male))\n",
    "print(\"The probability of survival for women was {}\".format(probability_female))\n",
    "print(\"\\n\")\n",
    "#store the total number of 1st/2nd/3rd class survivors\n",
    "firstclassSurv = np.sum(dfTitanic.loc[dfTitanic['Pclass'] == 1, 'Survived'])\n",
    "secondclassSurv = np.sum(dfTitanic.loc[dfTitanic['Pclass'] == 2, 'Survived'])\n",
    "thirdclassSurv = np.sum(dfTitanic.loc[dfTitanic['Pclass'] == 3, 'Survived'])\n",
    "#store the total number of 1st/2nd/3rd class passengers\n",
    "totalFirst = len(dfTitanic[dfTitanic['Pclass'] == 1])\n",
    "totalSecond = len(dfTitanic[dfTitanic['Pclass'] == 2])\n",
    "totalThird = len(dfTitanic[dfTitanic['Pclass'] == 3])\n",
    "#store the probability of survival for 1st/2nd/3rd\n",
    "probability_first = firstclassSurv / totalFirst\n",
    "probability_second = secondclassSurv / totalSecond\n",
    "probability_third = thirdclassSurv / totalThird\n",
    "\n",
    "#final print statement\n",
    "print(\"The probability of survival for 1st class passengers was {}\".format(probability_first))\n",
    "print(\"The probability of survival for 2nd class passengers was {}\".format(probability_second))\n",
    "print(\"The probability of survival for 3rd class passengers was {}\".format(probability_third))\n",
    "print(\"\\n\")\n",
    "\n",
    "#store the number of first class male passengers\n",
    "temp1 =(dfTitanic.loc[(dfTitanic['Pclass'] == 1)&( dfTitanic['Sex'] == 'male')])\n",
    "#store the number of first class male survivors\n",
    "menFirstSurv = np.sum(temp1['Survived'])\n",
    "#process repeated for female and 2nd and 3rd class\n",
    "temp2 =(dfTitanic.loc[(dfTitanic['Pclass'] == 2)&( dfTitanic['Sex'] == 'male')])\n",
    "menSecondSurv = np.sum(temp2['Survived'])\n",
    "temp3 =(dfTitanic.loc[(dfTitanic['Pclass'] == 3)&( dfTitanic['Sex'] == 'male')])\n",
    "menThirdSurv = np.sum(temp3['Survived'])\n",
    "temp4 =(dfTitanic.loc[(dfTitanic['Pclass'] == 1)&( dfTitanic['Sex'] == 'female')])\n",
    "womenFirstSurv = np.sum(temp4['Survived'])\n",
    "temp5 =(dfTitanic.loc[(dfTitanic['Pclass'] == 2)&( dfTitanic['Sex'] == 'female')])\n",
    "womenSecondSurv = np.sum(temp5['Survived'])\n",
    "temp6 =(dfTitanic.loc[(dfTitanic['Pclass'] == 3)&( dfTitanic['Sex'] == 'female')])\n",
    "womenThirdSurv = np.sum(temp6['Survived'])\n",
    "\n",
    "#store the probability of survival for each sex and class\n",
    "probability_firstM = menFirstSurv / totalFirst\n",
    "probability_secondM = menSecondSurv / totalSecond\n",
    "probability_thirdM = menThirdSurv / totalThird\n",
    "probability_firstF = womenFirstSurv / totalFirst\n",
    "probability_secondF = womenSecondSurv / totalSecond\n",
    "probability_thirdF = womenThirdSurv / totalThird\n",
    "\n",
    "#final print statement\n",
    "print(\"The probability of survival for male 1st class passengers was {}\".format(probability_firstM))\n",
    "print(\"The probability of survival for male 2nd class passengers was {}\".format(probability_secondM))\n",
    "print(\"The probability of survival for male 3rd class passengers was {}\".format(probability_thirdM))\n",
    "print(\"The probability of survival for female 1st class passengers was {}\".format(probability_firstF))\n",
    "print(\"The probability of survival for female 2nd class passengers was {}\".format(probability_secondF))\n",
    "print(\"The probability of survival for female 3rd class passengers was {}\".format(probability_thirdF))"
   ]
  },
  {
   "cell_type": "markdown",
   "metadata": {},
   "source": [
    "**Part D Answer:**\n",
    "\n",
    "**(i):**\n",
    "The overall survival rate was roughly .39. The 1st class survival rate (.64) was signficantly higher than the overal average. The 2nd class survival rate (.48) was slightly higher than the overall average. The 3rd class survival rate (.25) was lower than the overal survival rate\n",
    "\n",
    "**(ii):**\n",
    "The overal survival rate was roughly .39. The male survival rate (.19) was lower than the overall average. On the other hand, the female survival rate (.75) was signficantly higher than the overal average\n",
    "\n",
    "**(iii):**\n",
    "Within every single passenger class, women were more likely to survive than men.\n",
    "\n",
    "1st: Female(.43) > Male(.21)\n",
    "\n",
    "2nd: Female(.37) > Male(.11)\n",
    "\n",
    "3rd: Female(.15) > Male(.10)\n",
    "\n",
    "**(iv):**\n",
    "\n",
    "Men in 1st class had a higher survival rate (.21) than women in 3rd class (.15), but only by a slight margin."
   ]
  },
  {
   "cell_type": "markdown",
   "metadata": {
    "tags": []
   },
   "source": [
    "**Part E**: One might wonder how a passenger's age is related to the likelihood that they would survive the Titanic disaster. In addition to the \"male chivalry\" argument outlined above, you can perhaps imagine an addendum - \"women and children first!\" - as the cry to ring out across the decks. Or you might imagine the opposite - rather than \"class warfare\", it is simply healthy adults fighting to take lifeboat spots for themselves.\n",
    "\n",
    "To answer this question graphically, plot two density histograms on the *same set* of axes, showing the distribution of the ages of passengers who survived, and the distribution of the ages of passengers who did not.  This means that the two axes should overlap. \n",
    "* Use the bin edges $[0,4,8,\\ldots,72,76,80]$ for both histograms.\n",
    "* To better distinguish between our populations, we will represent survivors with `darkgreen` and the passed with `red`.\n",
    "* As you plot both histograms on a single set of axes you should use Matplotlib/Pandas plotting functionality to make the faces of the histogram boxes somewhat transparent, so both histograms are visible and their overlap becomes a blend of the two colors.\n",
    "* Include a legend and label your axes.\n",
    "* Comment on the results. Does your figure suggest that some age ranges are more or less likely to have survived the disaster than other ages? Fully explain your reasoning and use your figure to justify your conclusions.\n",
    "* If you noticed some relationship between age and likelihood of survival, what is one possible explanation?"
   ]
  },
  {
   "cell_type": "code",
   "execution_count": 11,
   "metadata": {},
   "outputs": [
    {
     "data": {
      "image/png": "[encoded data removed]",
      "text/plain": [
       "<Figure size 720x432 with 1 Axes>"
      ]
     },
     "metadata": {
      "needs_background": "light"
     },
     "output_type": "display_data"
    }
   ],
   "source": [
    "#histogram of age of pasengers\n",
    "fig, axes = plt.subplots(1,1, figsize = (10,6))\n",
    "#survivor histogram\n",
    "dfTitanic.loc[dfTitanic['Survived'] == 1].hist(column = 'Age', ax = axes, facecolor = \"darkgreen\", density = True, alpha = .5, bins = 8)\n",
    "#passed histogram\n",
    "dfTitanic.loc[dfTitanic['Survived'] == 0].hist(column = 'Age', ax = axes, facecolor = \"red\", density = True, alpha = .5, bins = 8)\n",
    "axes.set_title(\"Histogram of age of passengers who (survived = green) (passed = red)\")\n",
    "axes.set_xlabel(\"Age\")\n",
    "axes.set_ylabel(\"Probability of survival\")\n",
    "axes.legend(['survived', 'passed'])\n",
    "axes.grid(alpha = .3)\n",
    "axes.set_axisbelow(False)"
   ]
  },
  {
   "cell_type": "markdown",
   "metadata": {},
   "source": [
    "**Part F:** In Part E, we plotted two *density* histograms, showing the distributions of ages of passengers that survived or did not survive the Titanic disaster. Why would it be misleading for us to have plotted these as *frequency* histograms instead?"
   ]
  },
  {
   "cell_type": "markdown",
   "metadata": {},
   "source": [
    "**Answer**\n",
    "\n",
    "Since there were more men than women on the titanic, a frequency histogram would skew the graph into looking like more men survived. When in reality, each histogram has to be out of the total number of each sex to get a proportion."
   ]
  },
  {
   "cell_type": "markdown",
   "metadata": {},
   "source": [
    "**Part G**: Do the data suggest class warfare, male chivalry, age bias, or some combination of these characteristics in the final hours aboard the Titanic?  Justify your conclusions based on the computations done above, or do any other analysis that you like, but be sure to clearly justify your conclusions."
   ]
  },
  {
   "cell_type": "markdown",
   "metadata": {},
   "source": [
    "**Answer**\n",
    "\n",
    "There are several biases present in these data. The first is that regardless of class, men had a lower chance of survival, suggesting male chivalry. The second is that regardless of sex, higher classes had a higher chance of survival, implying class warfare. Finally, the histograms above has a center around ages 20-35, suggesting that the old and young were neglegted to be put on lifeboats."
   ]
  },
  {
   "cell_type": "markdown",
   "metadata": {},
   "source": [
    "**Part H**: In lecture we described some types of sampling from a *sample frame*.  Perform the following operations:\n",
    "\n",
    "1) Since the overall ship had around 65% men, create a *sample* of distinct passengers from the overall ship that consists of exactly 13 randomly chosen men and 7 randomly chosen women.  Report the proportion of those passengers that survived.\n",
    "\n",
    "2) Repeat the sampling process from part 1) 1000 times.  Report the **mean** survival proportion of those 1000 samples.  Is this close to the survival rate in part A?  Why or why not?\n",
    "\n",
    "3) Make a histogram of the 1000 sample means from parth H2.  Include an indicator of the mean your computed in H2 on the histogram.\n",
    "\n",
    "4) What is the name for this sort of sample?\n"
   ]
  },
  {
   "cell_type": "code",
   "execution_count": 12,
   "metadata": {},
   "outputs": [
    {
     "name": "stdout",
     "output_type": "stream",
     "text": [
      "The number of men who survived in a sample of 13 passengers was 1\n",
      "The number of women who survived in a sample of 7 passengers was 3\n",
      "The total number of men and women who survived in a sample of 20 passengers was 4\n",
      "The number of men who survived in 1000 samples of 13 passengers was 2.573\n",
      "The number of women who survived in 1000 samples of 7 passengers was 5.183\n"
     ]
    },
    {
     "data": {
      "text/plain": [
       "Text(0.5, 1.0, 'Average mean of probability of surviving in 1000 samples of 7 women and 13 men')"
      ]
     },
     "execution_count": 12,
     "metadata": {},
     "output_type": "execute_result"
    },
    {
     "data": {
      "image/png": "[encoded data removed]",
      "text/plain": [
       "<Figure size 720x432 with 1 Axes>"
      ]
     },
     "metadata": {
      "needs_background": "light"
     },
     "output_type": "display_data"
    }
   ],
   "source": [
    "#gather sample of 13 males and 7 females\n",
    "sampleMale = dfTitanic.loc[dfTitanic['Sex'] == 'male'].sample(n = 13)\n",
    "sampleFemale = dfTitanic.loc[dfTitanic['Sex'] == 'female'].sample(n = 7)\n",
    "#of that sample, sum up the survivors\n",
    "menSurv = np.sum(sampleMale['Survived'])\n",
    "womenSurv = np.sum(sampleFemale['Survived'])\n",
    "totalSurv = menSurv + womenSurv\n",
    "\n",
    "#final print statement\n",
    "print(\"The number of men who survived in a sample of 13 passengers was {}\".format(menSurv))\n",
    "print(\"The number of women who survived in a sample of 7 passengers was {}\".format(womenSurv))\n",
    "print(\"The total number of men and women who survived in a sample of 20 passengers was {}\".format(totalSurv))\n",
    "\n",
    "i = 0\n",
    "totalLoopMen = 0\n",
    "totalLoopWomen = 0\n",
    "totalLoopTotal = 0\n",
    "#empty list for histogram later\n",
    "totalMLoopHist = []\n",
    "totalFLoopHist = []\n",
    "totalLoopHist = []\n",
    "\n",
    "#1000 iteration loop of part 1\n",
    "while i < 1000:\n",
    "    #part 1 again\n",
    "    sampleMaleLoop = dfTitanic.loc[dfTitanic['Sex'] == 'male'].sample(n = 13)\n",
    "    sampleFemaleLoop = dfTitanic.loc[dfTitanic['Sex'] == 'female'].sample(n = 7)\n",
    "    menSurvLoop = np.sum(sampleMaleLoop['Survived'])\n",
    "    womenSurvLoop = np.sum(sampleFemaleLoop['Survived'])\n",
    "    totalSurvLoop = menSurvLoop + womenSurvLoop\n",
    "    #store and add up to a total\n",
    "    totalLoopMen = totalLoopMen + menSurvLoop\n",
    "    totalLoopWomen = totalLoopWomen + womenSurvLoop\n",
    "    totalLoopTotal = totalLoopTotal + totalSurvLoop\n",
    "    #add the total to the empty list and divide by the sample size\n",
    "    totalFLoopHist.append(womenSurvLoop / 7)\n",
    "    totalMLoopHist.append(menSurvLoop / 13)\n",
    "    totalLoopHist.append(totalSurvLoop / 20)\n",
    "    i = i + 1\n",
    "finalMeanMen = totalLoopMen / 1000\n",
    "finalMeanWomen = totalLoopWomen / 1000\n",
    "finalMeanTotal = totalLoopTotal /1000\n",
    "#final print statement\n",
    "print(\"The number of men who survived in 1000 samples of 13 passengers was {}\".format(finalMeanMen))\n",
    "print(\"The number of women who survived in 1000 samples of 7 passengers was {}\".format(finalMeanWomen))\n",
    "\n",
    "#histogram for probability of survival from 1000 samples\n",
    "fig, ax = plt.subplots(1,1, figsize = (10,6))\n",
    "ax.hist(totalFLoopHist, facecolor = 'red', alpha = .33, bins = 10, label = \"Male\")\n",
    "ax.hist(totalMLoopHist, facecolor = 'blue', alpha = .33, bins = 10, label = \"Female\")\n",
    "ax.hist(totalLoopHist, facecolor = 'green', alpha = .33, bins = 10, label = \"Total\")\n",
    "#plotting a line of the average mean from part 2.\n",
    "plt.axvline(finalMeanMen/13, color = 'darkblue')\n",
    "plt.axvline(finalMeanWomen/7, color = 'darkred')\n",
    "plt.axvline(finalMeanTotal/20, color = 'darkgreen')\n",
    "ax.set_xlabel(\"Probability of survival\")\n",
    "ax.set_ylabel(\"Quantity of mean values\")\n",
    "ax.legend()\n",
    "ax.set_title('Average mean of probability of surviving in 1000 samples of 7 women and 13 men')"
   ]
  },
  {
   "cell_type": "markdown",
   "metadata": {},
   "source": [
    "**Part H4 Answer**\n",
    "\n",
    "This is a stratified sample, because the data has been seperated into two seperate catagories (sex) and sampled by subgroup. "
   ]
  }
 ],
 "metadata": {
  "kernelspec": {
   "display_name": "Python 3 (ipykernel)",
   "language": "python",
   "name": "python3"
  },
  "language_info": {
   "codemirror_mode": {
    "name": "ipython",
    "version": 3
   },
   "file_extension": ".py",
   "mimetype": "text/x-python",
   "name": "python",
   "nbconvert_exporter": "python",
   "pygments_lexer": "ipython3",
   "version": "3.10.8"
  }
 },
 "nbformat": 4,
 "nbformat_minor": 4
}
